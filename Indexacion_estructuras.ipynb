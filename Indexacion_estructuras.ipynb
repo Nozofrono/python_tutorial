{
 "cells": [
  {
   "cell_type": "markdown",
   "metadata": {},
   "source": [
    "# **Indexación de Estructuras**"
   ]
  },
  {
   "cell_type": "markdown",
   "metadata": {},
   "source": [
    "* En Python, la indexación es fundamental para trabajar con estructuras de datos, \n",
    "ya que permite acceder a elementos específicos mediante **índices numéricos** (en listas y tuplas)\n",
    "o **claves asociativas** (en diccionarios). A continuación, se presentan ejemplos prácticos que ilustran\n",
    "cómo se aplica la indexación en distintas estructuras de datos."
   ]
  },
  {
   "cell_type": "markdown",
   "metadata": {},
   "source": [
    "### *Listas (Lists)*"
   ]
  },
  {
   "cell_type": "code",
   "execution_count": 1,
   "metadata": {},
   "outputs": [],
   "source": [
    "# Definimos una lista para la demostración (Tareas de un proyecto)\n",
    "Tareas_Proyecto = ['Planificación', 'Desarrollo', 'Pruebas', 'Despliegue']"
   ]
  },
  {
   "cell_type": "code",
   "execution_count": 2,
   "metadata": {},
   "outputs": [
    {
     "name": "stdout",
     "output_type": "stream",
     "text": [
      "Planificación\n",
      "Pruebas\n",
      "Despliegue\n"
     ]
    }
   ],
   "source": [
    "# Para acceder a los elementos usando las posiciones:\n",
    "print(Tareas_Proyecto[0]) # Accede al primer elemento (índice 0)\n",
    "print(Tareas_Proyecto[2]) # Accede al tercer elemento (índice 2)\n",
    "print(Tareas_Proyecto[-1]) # Accede al último elemento (índice negativo)"
   ]
  },
  {
   "cell_type": "code",
   "execution_count": 3,
   "metadata": {},
   "outputs": [
    {
     "name": "stdout",
     "output_type": "stream",
     "text": [
      "['Planificación', 'Desarrollo', 'Control de Calidad', 'Despliegue']\n"
     ]
    }
   ],
   "source": [
    "# Para modificar un elemento de la lista (las listas son mutables)\n",
    "Tareas_Proyecto[2] = 'Control de Calidad'\n",
    "print(Tareas_Proyecto)"
   ]
  },
  {
   "cell_type": "markdown",
   "metadata": {},
   "source": [
    "### *Tuplas (Tuples)*"
   ]
  },
  {
   "cell_type": "code",
   "execution_count": 4,
   "metadata": {},
   "outputs": [],
   "source": [
    "# Definimos una tupla para la demostración (Coordenadas geográficas)\n",
    "Coordenadas_Ciudad = (6.24, -75.56, 'Medellín')"
   ]
  },
  {
   "cell_type": "code",
   "execution_count": 5,
   "metadata": {},
   "outputs": [
    {
     "name": "stdout",
     "output_type": "stream",
     "text": [
      "6.24\n",
      "Medellín\n"
     ]
    }
   ],
   "source": [
    "# Para acceder a los elementos usando posiciones (igual que en las listas)\n",
    "print(Coordenadas_Ciudad[0]) # Primer elemento (Latitud)\n",
    "print(Coordenadas_Ciudad[-1]) # Último elemento (Nombre de la Ciudad)"
   ]
  },
  {
   "cell_type": "markdown",
   "metadata": {},
   "source": [
    "* Nota importante: Las tuplas son inmutables, lo que significa que **no se pueden modificar** después de su creación."
   ]
  },
  {
   "cell_type": "markdown",
   "metadata": {},
   "source": [
    "### *Diccionarios (Dictionaries)*"
   ]
  },
  {
   "cell_type": "markdown",
   "metadata": {},
   "source": [
    "* En los diccionarios, no se usan índices numéricos, sino que los valores están asociados a una **clave**."
   ]
  },
  {
   "cell_type": "code",
   "execution_count": 6,
   "metadata": {},
   "outputs": [],
   "source": [
    "# Definimos un diccionario que representa un producto de inventario\n",
    "Inventario_Producto = {\n",
    "    'ID': 'P101',\n",
    "    'Nombre': 'Laptop X',\n",
    "    'Precio': 1200.50,\n",
    "    'Stock': 5\n",
    "}"
   ]
  },
  {
   "cell_type": "code",
   "execution_count": 7,
   "metadata": {},
   "outputs": [
    {
     "name": "stdout",
     "output_type": "stream",
     "text": [
      "Laptop X\n",
      "1200.5\n"
     ]
    }
   ],
   "source": [
    "# Para acceder a los valores usando claves:\n",
    "print(Inventario_Producto['Nombre']) # Acceso directo con corchetes\n",
    "print(Inventario_Producto.get('Precio')) # Acceso usando el método .get()"
   ]
  },
  {
   "cell_type": "code",
   "execution_count": 8,
   "metadata": {},
   "outputs": [
    {
     "name": "stdout",
     "output_type": "stream",
     "text": [
      "{'ID': 'P101', 'Nombre': 'Laptop X', 'Precio': 1200.5, 'Stock': 5, 'Proveedor': 'TechCorp'}\n"
     ]
    }
   ],
   "source": [
    "# Para añadir un nuevo par clave-valor (los diccionarios son mutables)\n",
    "Inventario_Producto['Proveedor'] = 'TechCorp'\n",
    "print(Inventario_Producto)"
   ]
  }
 ],
 "metadata": {
  "kernelspec": {
   "display_name": "Python 3",
   "language": "python",
   "name": "python3"
  },
  "language_info": {
   "codemirror_mode": {
    "name": "ipython",
    "version": 3
   },
   "file_extension": ".py",
   "mimetype": "text/x-python",
   "name": "python",
   "nbconvert_exporter": "python",
   "pygments_lexer": "ipython3",
   "version": "3.13.1"
  }
 },
 "nbformat": 4,
 "nbformat_minor": 2
}

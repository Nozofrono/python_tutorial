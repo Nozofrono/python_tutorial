{
 "cells": [
  {
   "cell_type": "markdown",
   "metadata": {},
   "source": [
    "# **Indexación de Estructuras**"
   ]
  },
  {
   "cell_type": "markdown",
   "metadata": {},
   "source": [
    "* En Python, la indexación es fundamental para trabajar con estructuras de datos, \n",
    "ya que permite acceder a elementos específicos mediante **índices numéricos** (en listas y tuplas)\n",
    "o **claves asociativas** (en diccionarios). A continuación, se presentan ejemplos prácticos que ilustran\n",
    "cómo se aplica la indexación en distintas estructuras de datos."
   ]
  },
  {
   "cell_type": "markdown",
   "metadata": {},
   "source": [
    "### *Listas (Lists)*"
   ]
  },
  {
   "cell_type": "code",
   "execution_count": 1,
   "metadata": {},
   "outputs": [],
   "source": [
    "# Definimos una lista para la demostración\n",
    "Lista_0 = [20, 30, 40, 50]"
   ]
  },
  {
   "cell_type": "code",
   "execution_count": 2,
   "metadata": {},
   "outputs": [
    {
     "name": "stdout",
     "output_type": "stream",
     "text": [
      "20\n",
      "40\n",
      "50\n"
     ]
    }
   ],
   "source": [
    "# Para acceder a los elementos usando las posiciones:\n",
    "print(Lista_0[0]) # Accede al primer elemento (índice 0)\n",
    "print(Lista_0[2]) # Accede al tercer elemento (índice 2)\n",
    "print(Lista_0[-1]) # Accede al último elemento (índice negativo)"
   ]
  },
  {
   "cell_type": "code",
   "execution_count": 3,
   "metadata": {},
   "outputs": [
    {
     "name": "stdout",
     "output_type": "stream",
     "text": [
      "[20, 29, 40, 50]\n"
     ]
    }
   ],
   "source": [
    "# Para modificar un elemento de la lista (las listas son mutables)\n",
    "Lista_0[1]=29\n",
    "print(Lista_0)"
   ]
  },
  {
   "cell_type": "markdown",
   "metadata": {},
   "source": [
    "### *Tuplas (Tuples)*"
   ]
  },
  {
   "cell_type": "code",
   "execution_count": 4,
   "metadata": {},
   "outputs": [],
   "source": [
    "# Definimos una tupla para la demostración\n",
    "Tupla_0 = ('Sara', 'Alvarez', 'Mesa')"
   ]
  },
  {
   "cell_type": "code",
   "execution_count": 5,
   "metadata": {},
   "outputs": [
    {
     "name": "stdout",
     "output_type": "stream",
     "text": [
      "Sara\n",
      "Alvarez\n"
     ]
    }
   ],
   "source": [
    "# Para acceder a los elementos usando posiciones (igual que en las listas)\n",
    "print(Tupla_0[0]) # Primer elemento\n",
    "print(Tupla_0[-2]) # Segundo elemento desde el final"
   ]
  },
  {
   "cell_type": "markdown",
   "metadata": {},
   "source": [
    "* Nota importante: Las tuplas son inmutables, lo que significa que **no se pueden modificar** después de su creación."
   ]
  },
  {
   "cell_type": "markdown",
   "metadata": {},
   "source": [
    "### *Diccionarios (Dictionaries)*"
   ]
  },
  {
   "cell_type": "markdown",
   "metadata": {},
   "source": [
    "* En los diccionarios, no se usan índices numéricos, sino que los valores están asociados a una **clave**."
   ]
  },
  {
   "cell_type": "code",
   "execution_count": 6,
   "metadata": {},
   "outputs": [],
   "source": [
    "# Definimos un diccionario que representa a un comprador\n",
    "comprador = {\n",
    "    'Nombre': 'Fernando',\n",
    "    'Edad': 71,\n",
    "    'Ciudad': 'Medellín'\n",
    "}"
   ]
  },
  {
   "cell_type": "code",
   "execution_count": 7,
   "metadata": {},
   "outputs": [
    {
     "name": "stdout",
     "output_type": "stream",
     "text": [
      "Fernando\n",
      "71\n"
     ]
    }
   ],
   "source": [
    "# Para acceder a los valores usando claves:\n",
    "print(comprador['Nombre']) # Acceso directo con corchetes\n",
    "print(comprador.get('Edad')) # Acceso usando el método .get()"
   ]
  },
  {
   "cell_type": "code",
   "execution_count": 8,
   "metadata": {},
   "outputs": [
    {
     "name": "stdout",
     "output_type": "stream",
     "text": [
      "{'Nombre': 'Fernando', 'Edad': 71, 'Ciudad': 'Medellín', 'Profesional': 'Médico'}\n"
     ]
    }
   ],
   "source": [
    "# Para añadir un nuevo par clave-valor (los diccionarios son mutables)\n",
    "comprador['Profesional'] = 'Médico'\n",
    "print(comprador)"
   ]
  }
 ],
 "metadata": {
  "kernelspec": {
   "display_name": "Python 3",
   "language": "python",
   "name": "python3"
  },
  "language_info": {
   "codemirror_mode": {
    "name": "ipython",
    "version": 3
   },
   "file_extension": ".py",
   "mimetype": "text/x-python",
   "name": "python",
   "nbconvert_exporter": "python",
   "pygments_lexer": "ipython3",
   "version": "3.13.1"
  }
 },
 "nbformat": 4,
 "nbformat_minor": 2
}

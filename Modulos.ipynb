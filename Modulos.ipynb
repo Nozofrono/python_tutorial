{
 "cells": [
  {
   "cell_type": "markdown",
   "metadata": {},
   "source": [
    "# **Módulos e Importaciones en Python**"
   ]
  },
  {
   "cell_type": "markdown",
   "metadata": {},
   "source": [
    "Un módulo en Python es un archivo que contiene definiciones y declaraciones como funciones, variables y clases. Los módulos ayudan a organizar tu código en diferentes archivos, facilitando su uso. "
   ]
  },
  {
   "cell_type": "markdown",
   "metadata": {},
   "source": [
    "### **Módulo personalizado de Geometría**"
   ]
  },
  {
   "cell_type": "markdown",
   "metadata": {},
   "source": [
    "Para crear un módulo personalizado (ej: `geometria.py`), simplemente guarda tu código en un archivo con extensión `.py`. Aquí se definen algunas funciones para calcular medidas geométricas:"
   ]
  },
  {
   "cell_type": "code",
   "execution_count": 1,
   "metadata": {},
   "outputs": [],
   "source": [
    "# Estas funciones estarían dentro de un archivo 'geometria.py'\n",
    "def calcular_area_rectangulo(base, altura):\n",
    "    \"\"\"Calcula el área de un rectángulo.\"\"\"\n",
    "    return base * altura\n",
    "def calcular_perimetro_rectangulo(base, altura):\n",
    "    \"\"\"Calcula el perímetro de un rectángulo.\"\"\"\n",
    "    return 2 * (base + altura)"
   ]
  },
  {
   "cell_type": "markdown",
   "metadata": {},
   "source": [
    "### **Importación de Módulos Estándar**"
   ]
  },
  {
   "cell_type": "code",
   "execution_count": 2,
   "metadata": {},
   "outputs": [
    {
     "name": "stdout",
     "output_type": "stream",
     "text": [
      "2.0\n"
     ]
    }
   ],
   "source": [
    "# Importación completa de 'math' para usar la potencia (pow)\n",
    "import math\n",
    "base_num = 4\n",
    "exponente = 0.5\n",
    "print(math.pow(base_num, exponente)) # Equivalente a la raíz cuadrada"
   ]
  },
  {
   "cell_type": "markdown",
   "metadata": {},
   "source": [
    "* En lugar de importar todo el módulo, puedes importar solo la función o clase específica que necesitas para optimizar recursos."
   ]
  },
  {
   "cell_type": "code",
   "execution_count": 3,
   "metadata": {},
   "outputs": [
    {
     "name": "stdout",
     "output_type": "stream",
     "text": [
      "14\n"
     ]
    }
   ],
   "source": [
    "# Importación específica de 'floor' (redondear hacia abajo) del módulo 'math'\n",
    "from math import floor\n",
    "valor_flotante = 14.99\n",
    "resultado_entero = floor(valor_flotante)\n",
    "print(resultado_entero)"
   ]
  },
  {
   "cell_type": "code",
   "execution_count": 4,
   "metadata": {},
   "outputs": [
    {
     "name": "stdout",
     "output_type": "stream",
     "text": [
      "El número aleatorio es 185\n"
     ]
    }
   ],
   "source": [
    "# Con alias: Importando el módulo 'random' como 'rnd'\n",
    "# Los alias ayudan a acortar nombres o evitar conflictos de nombres:\n",
    "import random as rnd\n",
    "numero_aleatorio = rnd.randint(100, 200) # Genera un entero aleatorio entre 100 y 200\n",
    "print(f\"El número aleatorio es {numero_aleatorio}\")"
   ]
  },
  {
   "cell_type": "markdown",
   "metadata": {},
   "source": [
    "### **Importación de Módulos de Terceros (Bibliotecas Externas)**"
   ]
  },
  {
   "cell_type": "markdown",
   "metadata": {},
   "source": [
    "* La importación de módulos de terceros requiere su instalación previa, generalmente usando el gestor de paquetes `pip`."
   ]
  },
  {
   "cell_type": "code",
   "execution_count": 5,
   "metadata": {},
   "outputs": [
    {
     "name": "stdout",
     "output_type": "stream",
     "text": [
      "Requirement already satisfied: numpy in /usr/lib/python3/dist-packages (1.21.2)\n"
     ]
    },
    {
     "name": "stderr",
     "output_type": "stream",
     "text": [
      "\n"
     ]
    }
   ],
   "source": [
    "# Instalación del paquete NumPy (simula la ejecución de un comando de terminal)\n",
    "print(\"Se asume que NumPy está instalado para el siguiente ejemplo.\")"
   ]
  },
  {
   "cell_type": "code",
   "execution_count": 6,
   "metadata": {},
   "outputs": [
    {
     "name": "stdout",
     "output_type": "stream",
     "text": [
      "[10 25 40 55]\n"
     ]
    }
   ],
   "source": [
    "# Ejemplo de uso de NumPy con alias 'np_data' para crear un array\n",
    "import numpy as np_data\n",
    "Valores_Serie = np_data.array([10, 25, 40, 55])\n",
    "print(Valores_Serie)"
   ]
  }
 ],
 "metadata": {
  "kernelspec": {
   "display_name": "Python 3",
   "language": "python",
   "name": "python3"
  },
  "language_info": {
   "codemirror_mode": {
    "name": "ipython",
    "version": 3
   },
   "file_extension": ".py",
   "mimetype": "text/x-python",
   "name": "python",
   "nbconvert_exporter": "python",
   "pygments_lexer": "ipython3",
   "version": "3.13.1"
  }
 },
 "nbformat": 4,
 "nbformat_minor": 2
}

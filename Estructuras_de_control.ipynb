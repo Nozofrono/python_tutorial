{
 "cells": [
  {
   "cell_type": "markdown",
   "metadata": {},
   "source": [
    "# **El Director de Orquesta: Estructuras de Control en Python**"
   ]
  },
  {
   "cell_type": "markdown",
   "metadata": {},
   "source": [
    "Las estructuras de control son el **cerebro lógico** de cualquier programa Python. Piensa en ellas como el \"director de orquesta\" que decide qué sección del código debe ejecutarse, cuándo y cuántas veces. Son esenciales para automatizar tareas, manejar diferentes escenarios y garantizar la estabilidad del software."
   ]
  },
  {
   "cell_type": "markdown",
   "metadata": {},
   "source": [
    "### *Toma de Decisiones: Condicionales (if, elif, else)*"
   ]
  },
  {
   "cell_type": "markdown",
   "metadata": {},
   "source": [
    "Los condicionales son como el **GPS** de tu código. Simplemente le haces una pregunta (una expresión lógica que solo puede ser respondida con 'Sí' o `True` / 'No' o `False`), y dependiendo de la respuesta, el programa toma una ruta u otra. Así es como logramos que el código reaccione a diferentes situaciones."
   ]
  },
  {
   "cell_type": "markdown",
   "metadata": {},
   "source": [
    "* **if**: La pregunta inicial. El código solo se ejecuta si la condición es cierta (`True`).\n",
    "* **elif**: Es la opción B, C, o D. Solo se revisa si las condiciones anteriores fallaron. ¡Puedes poner tantas como necesites!\n",
    "* **else**: El camino por defecto. Se ejecuta si **ninguna** de las condiciones anteriores se cumple."
   ]
  },
  {
   "cell_type": "code",
   "execution_count": 1,
   "metadata": {},
   "outputs": [
    {
     "name": "stdout",
     "output_type": "stream",
     "text": [
      "Buen trabajo. Tienes una B (Notable).\n"
     ]
    }
   ],
   "source": [
    "# Ejemplo: Clasificar el rendimiento de un estudiante\n",
    "puntuacion_examen = 85\n",
    "\n",
    "if puntuacion_examen >= 90:\n",
    "    print(\"¡Felicidades! Tienes una A (Sobresaliente).\")\n",
    "elif puntuacion_examen >= 70:\n",
    "    print(\"Buen trabajo. Tienes una B (Notable).\")\n",
    "else:\n",
    "    print(\"Necesitas repasar. Tienes una C o menos.\")"
   ]
  },
  {
   "cell_type": "markdown",
   "metadata": {},
   "source": [
    "### *Automatización de Tareas: Bucles (for, while)*"
   ]
  },
  {
   "cell_type": "markdown",
   "metadata": {},
   "source": [
    "Si tienes que hacer lo mismo muchas veces, los bucles son tus amigos. Son la **automatización** pura. Nos ayudan a procesar listas largas o a seguir haciendo algo hasta que una meta se cumpla, sin tener que copiar y pegar código."
   ]
  },
  {
   "cell_type": "markdown",
   "metadata": {},
   "source": [
    "* **for**: Se usa para **iterar** sobre colecciones (listas, tuplas, etc.). Se sabe *de antemano* cuántas veces se ejecutará (una vez por cada elemento).\n",
    "* **while**: Se usa cuando no se sabe *cuántas* repeticiones se necesitan, sino *hasta cuándo*. El bucle continúa ejecutándose **mientras** una condición sea `True`."
   ]
  },
  {
   "cell_type": "code",
   "execution_count": 2,
   "metadata": {},
   "outputs": [
    {
     "name": "stdout",
     "output_type": "stream",
     "text": [
      "Necesitas comprar:\n",
      "-> Agregar a la cesta: harina\n",
      "-> Agregar a la cesta: leche\n",
      "-> Agregar a la cesta: huevos\n",
      "-> Agregar a la cesta: azúcar\n",
      "-> Agregar a la cesta: mantequilla\n"
     ]
    }
   ],
   "source": [
    "# Ejemplo 'for': Contar los elementos de una lista de compras\n",
    "ingredientes = [\"harina\", \"leche\", \"huevos\", \"azúcar\", \"mantequilla\"]\n",
    "print(\"Necesitas comprar:\")\n",
    "for item in ingredientes:\n",
    "    print(f\"-> Agregar a la cesta: {item}\")"
   ]
  },
  {
   "cell_type": "code",
   "execution_count": 3,
   "metadata": {},
   "outputs": [
    {
     "name": "stdout",
     "output_type": "stream",
     "text": [
      "Te quedan 3 vidas. ¡Sigue jugando!\n",
      "Te quedan 2 vidas. ¡Sigue jugando!\n",
      "Te quedan 1 vidas. ¡Sigue jugando!\n",
      "Game Over. Tu contador de vidas llegó a cero.\n"
     ]
    }
   ],
   "source": [
    "# Ejemplo 'while': Simular un juego con vidas\n",
    "vidas_restantes = 3\n",
    "\n",
    "while vidas_restantes > 0:\n",
    "    print(f\"Te quedan {vidas_restantes} vidas. ¡Sigue jugando!\")\n",
    "    vidas_restantes -= 1\n",
    "\n",
    "print(\"Game Over. Tu contador de vidas llegó a cero.\")"
   ]
  },
  {
   "cell_type": "markdown",
   "metadata": {},
   "source": [
    "#### Modificadores de Flujo del Bucle (*break, continue, pass*)\n",
    "Estas palabras clave son tus 'controles internos' para manipular esa repetición. Te dan el poder de cortar o saltarte pasos:"
   ]
  },
  {
   "cell_type": "markdown",
   "metadata": {},
   "source": [
    "* **break**: Es una **salida de emergencia**. Detiene el bucle completamente, sin importar si faltan elementos por revisar.\n",
    "* **continue**: Es un **salto temporal**. Omite el resto del código en la iteración actual y pasa inmediatamente a la siguiente.\n",
    "* **pass**: Es un **marcador de posición** que no hace nada. Se usa cuando la sintaxis requiere un bloque de código, pero aún no has escrito la lógica."
   ]
  },
  {
   "cell_type": "code",
   "execution_count": 4,
   "metadata": {},
   "outputs": [
    {
     "name": "stdout",
     "output_type": "stream",
     "text": [
      "Temperatura cómoda: 20°C.\n",
      "Temperatura cómoda: 22°C.\n",
      "Temperatura cómoda: 25°C.\n",
      "¡Alerta de calor! Se alcanzó 31°C. Deteniendo la revisión.\n"
     ]
    }
   ],
   "source": [
    "# Ejemplo de 'break': Detener la revisión de temperaturas al encontrar un día caluroso\n",
    "temperaturas_diarias = [20, 22, 25, 31, 28, 26]\n",
    "limite_calor = 30\n",
    "\n",
    "for temp in temperaturas_diarias:\n",
    "    if temp >= limite_calor:\n",
    "        print(f\"¡Alerta de calor! Se alcanzó {temp}°C. Deteniendo la revisión.\")\n",
    "        break # Detenemos la revisión\n",
    "    print(f\"Temperatura cómoda: {temp}°C.\")"
   ]
  },
  {
   "cell_type": "markdown",
   "metadata": {},
   "source": [
    "### *Red de Seguridad: Manejo de Excepciones (try, except, finally)*"
   ]
  },
  {
   "cell_type": "markdown",
   "metadata": {},
   "source": [
    "Piensa en esto como tu **seguro contra accidentes** en programación. El `try/except` permite que tu código intente hacer algo arriesgado (como pedir datos a un usuario). Si falla, en lugar de que todo colapse, tu programa 'atrapa' el error y lo maneja elegantemente con un 'Plan B'."
   ]
  },
  {
   "cell_type": "markdown",
   "metadata": {},
   "source": [
    "* **try**: El bloque donde se coloca el código que podría generar un error.\n",
    "* **except**: Aquí se captura y maneja el tipo específico de error que ocurrió en el `try`.\n",
    "* **finally**: Se ejecuta **siempre**, sin importar si hubo un error o no. Ideal para tareas de limpieza (como cerrar archivos)."
   ]
  },
  {
   "cell_type": "code",
   "execution_count": 5,
   "metadata": {},
   "outputs": [
    {
     "name": "stdout",
     "output_type": "stream",
     "text": [
      "Ups, el texto introducido no es un número válido. No se puede sumar.\n",
      "Operación de prueba de conversión finalizada.\n"
     ]
    }
   ],
   "source": [
    "# Ejemplo de manejo de error (intentar convertir texto a número)\n",
    "entrada_texto = \"diez\"\n",
    "numero_real = 5\n",
    "\n",
    "try:\n",
    "    # Aquí intentamos la operación riesgosa\n",
    "    valor_usuario = int(entrada_texto)\n",
    "    print(f\"Conversión exitosa: {valor_usuario + numero_real}\")\n",
    "except ValueError:\n",
    "    # Si falla la conversión (ej: si 'diez' no es un número entero)\n",
    "    print(\"Ups, el texto introducido no es un número válido. No se puede sumar.\")\n",
    "finally:\n",
    "    print(\"Operación de prueba de conversión finalizada.\")"
   ]
  },
  {
   "cell_type": "markdown",
   "metadata": {},
   "source": [
    "### *Sintaxis Compacta: Comprensión de Listas (List Comprehensions)*"
   ]
  },
  {
   "cell_type": "markdown",
   "metadata": {},
   "source": [
    "La Comprensión de Listas es la forma más **elegante y rápida** de trabajar con listas en Python. Imagina que es una mini-fábrica: tomas una lista (la materia prima), le aplicas una transformación y/o un filtro, y obtienes una lista nueva, ¡todo en una sola línea! Es mucho más limpio que usar un bucle `for` largo."
   ]
  },
  {
   "cell_type": "code",
   "execution_count": 6,
   "metadata": {},
   "outputs": [
    {
     "name": "stdout",
     "output_type": "stream",
     "text": [
      "Frase original: ['El', 'cielo', 'está', 'despejado', 'hoy']\n",
      "Palabras cortas en mayúsculas: ['EL', 'HOY']\n"
     ]
    }
   ],
   "source": [
    "# Ejemplo: Convertir a mayúsculas solo las palabras cortas de una frase\n",
    "frase = [\"El\", \"cielo\", \"está\", \"despejado\", \"hoy\"]\n",
    "\n",
    "# [ <expresión a calcular> for <elemento> in <iterable> if <condición de filtro> ]\n",
    "palabras_mayusculas = [palabra.upper() for palabra in frase if len(palabra) <= 3]\n",
    "\n",
    "print(f\"Frase original: {frase}\")\n",
    "print(f\"Palabras cortas en mayúsculas: {palabras_mayusculas}\")"
   ]
  }
 ],
 "metadata": {
  "kernelspec": {
   "display_name": "Python 3",
   "language": "python",
   "name": "python3"
  },
  "language_info": {
   "codemirror_mode": {
    "name": "ipython",
    "version": 3
   },
   "file_extension": ".py",
   "mimetype": "text/x-python",
   "name": "python",
   "nbconvert_exporter": "python",
   "pygments_lexer": "ipython3",
   "version": "3.13.1"
  }
 },
 "nbformat": 4,
 "nbformat_minor": 2
}

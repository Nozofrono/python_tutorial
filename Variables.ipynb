{
 "cells": [
  {
   "cell_type": "markdown",
   "metadata": {},
   "source": [
    "# 🧠 Ejemplo de Aprendizaje Supervisado en Python\n",
    "\n",
    "En este notebook vamos a explicar, con código, cómo funciona un modelo de **aprendizaje supervisado**. \n",
    "Vamos a usar un modelo de **Regresión Logística** para predecir si una persona compra o no un producto según su edad y su ingreso.\n",
    "\n",
    "Todo paso a paso, como debe ser 😎☕"
   ]
  },
  {
   "cell_type": "code",
   "execution_count": null,
   "metadata": {},
   "outputs": [],
   "source": [
    "# ============================================================\n",
    "# 🧰 1️⃣ Importar librerías necesarias\n",
    "# ============================================================\n",
    "import pandas as pd\n",
    "from sklearn.model_selection import train_test_split\n",
    "from sklearn.linear_model import LogisticRegression\n",
    "from sklearn.metrics import accuracy_score, classification_report\n",
    "\n",
    "print('Librerías cargadas con éxito ✅')"
   ]
  },
  {
   "cell_type": "code",
   "execution_count": null,
   "metadata": {},
   "outputs": [],
   "source": [
    "# ============================================================\n",
    "# 📊 2️⃣ Crear el conjunto de datos\n",
    "# ============================================================\n",
    "# Cada fila representa una persona\n",
    "# 'Edad' y 'Ingreso' son las características (X)\n",
    "# 'Compra' es la variable a predecir (y)\n",
    "\n",
    "datos = {\n",
    "    'Edad': [22, 25, 47, 52, 46, 56, 55, 60, 38, 40],\n",
    "    'Ingreso': [25000, 30000, 80000, 110000, 95000, 130000, 120000, 140000, 60000, 75000],\n",
    "    'Compra': [0, 0, 1, 1, 1, 1, 1, 1, 0, 1]\n",
    "}\n",
    "\n",
    "df = pd.DataFrame(datos)\n",
    "df"
   ]
  },
  {
   "cell_type": "markdown",
   "metadata": {},
   "source": [
    "Como ves, tenemos un dataset pequeñito. La idea es que el modelo aprenda una relación entre edad, ingreso y la probabilidad de que una persona compre. 💸"
   ]
  },
  {
   "cell_type": "code",
   "execution_count": null,
   "metadata": {},
   "outputs": [],
   "source": [
    "# ============================================================\n",
    "# ✂️ 3️⃣ Dividir los datos en entrenamiento y prueba\n",
    "# ============================================================\n",
    "# X: características (edad e ingreso)\n",
    "# y: etiqueta (compra)\n",
    "\n",
    "X = df[['Edad', 'Ingreso']]\n",
    "y = df['Compra']\n",
    "\n",
    "# 80% para entrenamiento, 20% para prueba\n",
    "X_train, X_test, y_train, y_test = train_test_split(X, y, test_size=0.2, random_state=42)\n",
    "\n",
    "print('Datos divididos correctamente 🧩')"
   ]
  },
  {
   "cell_type": "code",
   "execution_count": null,
   "metadata": {},
   "outputs": [],
   "source": [
    "# ============================================================\n",
    "# 🤖 4️⃣ Entrenar el modelo\n",
    "# ============================================================\n",
    "modelo = LogisticRegression()\n",
    "modelo.fit(X_train, y_train)\n",
    "\n",
    "print('Modelo entrenado correctamente 💪')"
   ]
  },
  {
   "cell_type": "code",
   "execution_count": null,
   "metadata": {},
   "outputs": [],
   "source": [
    "# ============================================================\n",
    "# 🔍 5️⃣ Evaluar el modelo\n",
    "# ============================================================\n",
    "# Predecimos los valores de prueba\n",
    "y_pred = modelo.predict(X_test)\n",
    "\n",
    "# Mostramos la precisión y reporte\n",
    "print(f\"Precisión del modelo: {accuracy_score(y_test, y_pred):.2f}\")\n",
    "print('\\nReporte de clasificación:\\n')\n",
    "print(classification_report(y_test, y_pred))"
   ]
  },
  {
   "cell_type": "code",
   "execution_count": null,
   "metadata": {},
   "outputs": [],
   "source": [
    "# ============================================================\n",
    "# 🧩 6️⃣ Probar con nuevos datos\n",
    "# ============================================================\n",
    "# Creamos nuevos ejemplos para probar el modelo\n",
    "nuevos_datos = pd.DataFrame({\n",
    "    'Edad': [28, 50, 42],\n",
    "    'Ingreso': [28000, 120000, 70000]\n",
    "})\n",
    "\n",
    "predicciones = modelo.predict(nuevos_datos)\n",
    "nuevos_datos['Compra_Predicha'] = predicciones\n",
    "nuevos_datos"
   ]
  },
  {
   "cell_type": "markdown",
   "metadata": {},
   "source": [
    "El modelo predice quién probablemente compraría y quién no, según la experiencia que tuvo con los datos anteriores. 🎯\n",
    "\n",
    "**Así es que funciona el aprendizaje supervisado:**\n",
    "1. Le mostramos ejemplos con respuestas correctas (entrenamiento 🧠)\n",
    "2. Aprende patrones\n",
    "3. Luego lo probamos con datos nuevos pa’ ver qué tan bien aprendió.\n",
    "\n",
    "Y eso es todo, mi llave 💥"
   ]
  }
 ],
 "metadata": {
  "kernelspec": {
   "display_name": "Python 3",
   "language": "python",
   "name": "python3"
  },
  "language_info": {
   "name": "python",
   "version": "3.x"
  }
 },
 "nbformat": 4,
 "nbformat_minor": 5
}

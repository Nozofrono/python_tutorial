{
 "cells": [
  {
   "cell_type": "markdown",
   "metadata": {},
   "source": [
    "# **Tutorial de Python**"
   ]
  },
  {
   "cell_type": "markdown",
   "metadata": {},
   "source": [
    "¿Qué es Python?\n",
    "\n",
    "Es un lenguaje de alto nivel de programación interpretado y de proposito general.\n",
    "Es conocido por la facilidad de usarlo y legible, lo que ayuda al aprendizaje para principiantes \n",
    "y ayuda a mejorar la productividad para desarrolladores experimentados.\n",
    "Se utiliza en diversos campos como analistas de datos, desarrolladores web, IA, entre otros."
   ]
  },
  {
   "cell_type": "markdown",
   "metadata": {},
   "source": [
    "## **Cometarios y tipo de letras en Python**"
   ]
  },
  {
   "cell_type": "markdown",
   "metadata": {},
   "source": [
    "\n",
    "Cometarios\n",
    "   - En python para realizar comentarios o explicaciones sobre algunos codigos, deberas utilizar el signo (#) y luego el comentario o reseña. \n",
    "   - Puedes dejar un espacio o escribir seguido, es tu decisión.\n",
    "\n",
    "Tipos de letras\n",
    "   - Para poner la letra negrita utilizamos el siguente caracter (**asi**), en el gion bajo iria tu texto o palabra\n",
    "   - Para poner la letra cursiva utilizamos el signo (*asi*),en el gion bajo iria tu texto o palabra\n",
    "   - Tambien podemos combinar la letra negrita y cusrsiva con el sigiente caracter (***asi***),en el gion bajo iria tu texto o palabra\n",
    "   - Para poner la letra subrayada utlizamos el siguiente caracter (~~asi~~)"
   ]
  },
  {
   "cell_type": "markdown",
   "metadata": {},
   "source": [
    "\n",
    "Comentarios\n",
    "   - #Asi puede ir tu comentario\n",
    "   - #Asi tambien puede ir\n",
    "\n",
    "\n",
    "Tipos de letras\n",
    "\n",
    "   - **Texto en negrita**\n",
    "   - *Texto en curisva*\n",
    "   - ***Texto en negrita y cursiva***\n",
    "   - ~~Texto subrayado~~"
   ]
  },
  {
   "cell_type": "markdown",
   "metadata": {},
   "source": [
    "## **Tipos de datos y variables**"
   ]
  },
  {
   "cell_type": "markdown",
   "metadata": {},
   "source": [
    "### *Variables*"
   ]
  },
  {
   "cell_type": "markdown",
   "metadata": {},
   "source": [
    "las variables se usan para guardar información, no hay que confirmar el tipo de variables ya que python lo infiere automaticamente.\n",
    "\n",
    "Debes tener en cuenta lo siguiente al nombrar las variables\n",
    "  - No utilizar el nombre de la variable con espacios, en caso de ser necesario utiliza (_)\n",
    "  - No utilizar números, ni caracteres especiales al momento de nombrar la variable\n",
    "  - Usa nombres alusivos al contenido de la variable\n"
   ]
  },
  {
   "cell_type": "code",
   "execution_count": 26,
   "metadata": {},
   "outputs": [
    {
     "data": {
      "text/plain": [
       "('Río', 'Mar', 'Montaña')"
      ]
     },
     "execution_count": 26,
     "metadata": {},
     "output_type": "execute_result"
    }
   ],
   "source": [
    "# Ejemplo 1 de variable: Almacenando elementos geográficos (Tupla implícita)\n",
    "Lugares_Naturales = \"Río\", \"Mar\", \"Montaña\"\n",
    "Lugares_Naturales "
   ]
  },
  {
   "cell_type": "code",
   "execution_count": 27,
   "metadata": {},
   "outputs": [
    {
     "data": {
      "text/plain": [
       "(105.5, 98.1, 112.7)"
      ]
     },
     "execution_count": 27,
     "metadata": {},
     "output_type": "execute_result"
    }
   ],
   "source": [
    "# Ejemplo 2 de variable: Registros de temperatura (Tupla implícita)\n",
    "Temperaturas_Diarias = 105.5, 98.1, 112.7\n",
    "Temperaturas_Diarias"
   ]
  },
  {
   "cell_type": "code",
   "execution_count": 1,
   "metadata": {},
   "outputs": [
    {
     "ename": "TypeError",
     "evalue": "type() takes 1 or 3 arguments",
     "output_type": "error",
     "traceback": [
      "\u001b[1;31m---------------------------------------------------------------------------\u001b[0m",
      "\u001b[1;31mTypeError\u001b[0m                                 Traceback (most recent call last)",
      "Cell \u001b[1;32mIn[1], line 2\u001b[0m\n\u001b[0;32m      1\u001b[0m \u001b[38;5;66;03m# Para mostrar el tipo de dato\u001b[39;00m\n\u001b[1;32m----> 2\u001b[0m \u001b[38;5;28;43mtype\u001b[39;49m\u001b[43m(\u001b[49m\u001b[43m)\u001b[49m\n\u001b[0;32m      4\u001b[0m \u001b[38;5;66;03m# Para mostrar los resultados  de varias operaciones en pantalla\u001b[39;00m\n\u001b[0;32m      5\u001b[0m \u001b[38;5;28mprint\u001b[39m()\n",
      "\u001b[1;31mTypeError\u001b[0m: type() takes 1 or 3 arguments"
     ]
    }
   ],
   "source": [
    "# Para mostrar el tipo de dato\n",
    "type()\n",
    "\n",
    "# Para mostrar los resultados  de varias operaciones en pantalla\n",
    "print()"
   ]
  },
  {
   "cell_type": "markdown",
   "metadata": {},
   "source": [
    "## **Operaciones Matemáticas**"
   ]
  },
  {
   "cell_type": "markdown",
   "metadata": {},
   "source": [
    "En Python puedes realizar una serie de operaciones cuantitativas que serian las siguientes:"
   ]
  },
  {
   "cell_type": "code",
   "execution_count": 52,
   "metadata": {},
   "outputs": [
    {
     "name": "stdout",
     "output_type": "stream",
     "text": [
      "12\n",
      "8\n",
      "99\n",
      "2.5\n",
      "1\n",
      "1024\n"
     ]
    }
   ],
   "source": [
    "# Operaciones Aritméticas (NUEVOS EJEMPLOS)\n",
    "calc_adicion = 5 + 7\n",
    "print(calc_adicion)\n",
    "calc_sustraccion = 15 - 7\n",
    "print(calc_sustraccion)\n",
    "calc_multiplicacion = 11 * 9\n",
    "print(calc_multiplicacion)\n",
    "calc_division = 10 / 4\n",
    "print(calc_division)\n",
    "calc_modulo = 10 % 3\n",
    "print(calc_modulo)\n",
    "calc_exponente = 2 ** 10\n",
    "print(calc_exponente)\n",
    "\n"
   ]
  },
  {
   "cell_type": "code",
   "execution_count": 1,
   "metadata": {},
   "outputs": [
    {
     "name": "stdout",
     "output_type": "stream",
     "text": [
      "5.0 <class 'float'>\n"
     ]
    }
   ],
   "source": [
    "# Para sacar raíz cuadrada a un número (NUEVO EJEMPLO)\n",
    "from math import sqrt\n",
    "raiz_calculada = sqrt(25)\n",
    "print(raiz_calculada, type(raiz_calculada))"
   ]
  },
  {
   "cell_type": "code",
   "execution_count": 58,
   "metadata": {},
   "outputs": [
    {
     "name": "stdout",
     "output_type": "stream",
     "text": [
      "False\n",
      "True\n",
      "True\n"
     ]
    }
   ],
   "source": [
    "# Comparación de valores (NUEVOS EJEMPLOS)\n",
    "es_identico =(10==11)\n",
    "print(es_identico)\n",
    "es_mayor = (20>19)\n",
    "print(es_mayor)\n",
    "es_menor = (5<7)\n",
    "print(es_menor)"
   ]
  },
  {
   "cell_type": "code",
   "execution_count": 61,
   "metadata": {},
   "outputs": [
    {
     "name": "stdout",
     "output_type": "stream",
     "text": [
      "True\n",
      "False\n",
      "True\n"
     ]
    }
   ],
   "source": [
    "# Operaciones lógicos (NUEVOS EJEMPLOS) \n",
    "resultado_y = (10 >= 10) and (6 != 7)\n",
    "print(resultado_y)\n",
    "resultado_o = (1 == 0) or (50 < 40)\n",
    "print(resultado_o)\n",
    "resultado_negacion = not (9 < 8)\n",
    "print(resultado_negacion)"
   ]
  },
  {
   "cell_type": "code",
   "execution_count": 3,
   "metadata": {},
   "outputs": [
    {
     "data": {
      "text/plain": [
       "True"
      ]
     },
     "execution_count": 3,
     "metadata": {},
     "output_type": "execute_result"
    }
   ],
   "source": [
    "# Operadores Lógicos en contexto (NUEVO EJEMPLO)\n",
    "nivel_stock = 150\n",
    "pedido_minimo = 100\n",
    "Verificar_Stock = (nivel_stock >= pedido_minimo) or (nivel_stock < 50)\n",
    "Verificar_Stock\n"
   ]
  },
  {
   "cell_type": "markdown",
   "metadata": {},
   "source": [
    "## **Tipos y estructuras de datos básicas**"
   ]
  },
  {
   "cell_type": "code",
   "execution_count": 29,
   "metadata": {},
   "outputs": [
    {
     "name": "stdout",
     "output_type": "stream",
     "text": [
      "5500\n"
     ]
    },
    {
     "data": {
      "text/plain": [
       "int"
      ]
     },
     "execution_count": 29,
     "metadata": {},
     "output_type": "execute_result"
    }
   ],
   "source": [
    "#números enteros (int) - NUEVO EJEMPLO\n",
    "    # Opción 1\n",
    "cantidad_monedas = 5500\n",
    "print(cantidad_monedas) \n",
    "type(cantidad_monedas)\n"
   ]
  },
  {
   "cell_type": "code",
   "execution_count": 30,
   "metadata": {},
   "outputs": [
    {
     "name": "stdout",
     "output_type": "stream",
     "text": [
      "Entero: 5500\n",
      "Tipo de dato: <class 'int'>\n"
     ]
    }
   ],
   "source": [
    "#Números enteros (int) - NUEVO EJEMPLO\n",
    "    # Opción 2\n",
    "print(\"Entero:\", cantidad_monedas)\n",
    "print(\"Tipo de dato:\", type(cantidad_monedas))\n",
    "# INT representa los números enteros, positivos y negativos"
   ]
  },
  {
   "cell_type": "code",
   "execution_count": 31,
   "metadata": {},
   "outputs": [
    {
     "name": "stdout",
     "output_type": "stream",
     "text": [
      "12.56\n"
     ]
    },
    {
     "data": {
      "text/plain": [
       "float"
      ]
     },
     "execution_count": 31,
     "metadata": {},
     "output_type": "execute_result"
    }
   ],
   "source": [
    "#Flotantes (float), números con decimales - NUEVO EJEMPLO\n",
    "    # Opción 1\n",
    "precio_producto = 12.56\n",
    "print(precio_producto)\n",
    "type(precio_producto)\n",
    "# FLOAT representan numeros decimales "
   ]
  },
  {
   "cell_type": "code",
   "execution_count": 32,
   "metadata": {},
   "outputs": [
    {
     "name": "stdout",
     "output_type": "stream",
     "text": [
      "Flotante: 12.56\n",
      "Tipo de dato: <class 'float'>\n"
     ]
    }
   ],
   "source": [
    "#Números flotantes (float) - NUEVO EJEMPLO\n",
    "    # Opción 2\n",
    "print(\"Flotante:\", precio_producto)\n",
    "print(\"Tipo de dato:\", type(precio_producto))\n",
    "# FLOAT representan numeros decimales "
   ]
  },
  {
   "cell_type": "code",
   "execution_count": 33,
   "metadata": {},
   "outputs": [
    {
     "name": "stdout",
     "output_type": "stream",
     "text": [
      "Proyecto Apolo\n"
     ]
    },
    {
     "data": {
      "text/plain": [
       "str"
      ]
     },
     "execution_count": 33,
     "metadata": {},
     "output_type": "execute_result"
    }
   ],
   "source": [
    "#Cadena (str) - NUEVO EJEMPLO\n",
    "    # Opción 1\n",
    "Nombre_Proyecto = \"Proyecto Apolo\"\n",
    "print(Nombre_Proyecto)\n",
    "type(Nombre_Proyecto)\n",
    "# STR representa texto, se puede escribir con comillas simples ('') o dobles (\"\")"
   ]
  },
  {
   "cell_type": "code",
   "execution_count": 34,
   "metadata": {},
   "outputs": [
    {
     "name": "stdout",
     "output_type": "stream",
     "text": [
      "Cadena: Proyecto Apolo\n",
      "Tipo de dato: <class 'str'>\n"
     ]
    }
   ],
   "source": [
    "#Cadena (str) - NUEVO EJEMPLO\n",
    "    # Opcion 2\n",
    "print(\"Cadena:\", Nombre_Proyecto)\n",
    "print(\"Tipo de dato:\", type(Nombre_Proyecto))\n",
    "# STR representa texto, se puede escribir con comillas simples ('') o dobles (\"\")"
   ]
  },
  {
   "cell_type": "code",
   "execution_count": 35,
   "metadata": {},
   "outputs": [
    {
     "name": "stdout",
     "output_type": "stream",
     "text": [
      "False\n"
     ]
    },
    {
     "data": {
      "text/plain": [
       "bool"
      ]
     },
     "execution_count": 35,
     "metadata": {},
     "output_type": "execute_result"
    }
   ],
   "source": [
    "#Booleanos (bool) - NUEVO EJEMPLO\n",
    "    # Opción 1\n",
    "logica_valor = False\n",
    "print(logica_valor)\n",
    "type(logica_valor)"
   ]
  },
  {
   "cell_type": "code",
   "execution_count": 36,
   "metadata": {},
   "outputs": [
    {
     "name": "stdout",
     "output_type": "stream",
     "text": [
      "Booleano: False\n",
      "Tipo de dato: <class 'bool'>\n"
     ]
    }
   ],
   "source": [
    " # Opcion 2 - NUEVO EJEMPLO\n",
    "print(\"Booleano:\", logica_valor)\n",
    "print(\"Tipo de dato:\", type(logica_valor))\n",
    "# BOOL representan valores logicos: True(verdadero) o False(falso)"
   ]
  },
  {
   "cell_type": "code",
   "execution_count": null,
   "metadata": {},
   "outputs": [
    {
     "name": "stdout",
     "output_type": "stream",
     "text": [
      "False\n",
      "True\n"
     ]
    }
   ],
   "source": [
    "# el NOT se utiliza para invertir la relación, para el codigo (NUEVO EJEMPLO)\n",
    "estado_encendido = 10 > 20\n",
    "print(estado_encendido)\n",
    "print(not(estado_encendido)) # El NOT invierte el valor False a True."
   ]
  },
  {
   "cell_type": "code",
   "execution_count": 37,
   "metadata": {},
   "outputs": [
    {
     "name": "stdout",
     "output_type": "stream",
     "text": [
      "['rojo', 'verde', 'azul']\n"
     ]
    },
    {
     "data": {
      "text/plain": [
       "list"
      ]
     },
     "execution_count": 37,
     "metadata": {},
     "output_type": "execute_result"
    }
   ],
   "source": [
    "#Listas (list) - NUEVO EJEMPLO\n",
    "    # Opción 1\n",
    "colores = [\"rojo\", \"verde\", \"azul\"]\n",
    "print(colores)\n",
    "type(colores)\n",
    "# LIST son colecciones ordenadas y modificables de elementos, puede tener diferentes tipos de datos"
   ]
  },
  {
   "cell_type": "code",
   "execution_count": 38,
   "metadata": {},
   "outputs": [
    {
     "name": "stdout",
     "output_type": "stream",
     "text": [
      "Lista: ['rojo', 'verde', 'azul']\n",
      "Tipo de dato: <class 'list'>\n"
     ]
    }
   ],
   "source": [
    " # Opcion 2 - NUEVO EJEMPLO\n",
    "print(\"Lista:\", colores)\n",
    "print(\"Tipo de dato:\", type(colores))\n",
    "# LIST son colecciones ordenadas y modificables de elementos, puede tener diferentes tipos de datos"
   ]
  },
  {
   "cell_type": "markdown",
   "metadata": {},
   "source": [
    "Python ofrece varias estructuras de datos incluidas que permiten almacenar colecciones de datos de diferentes formas.\n",
    "\n",
    "Haremos un ejemplo donde se realizaran diversas estructuras que puede tener el tipo de dato **lista (list)**"
   ]
  },
  {
   "cell_type": "code",
   "execution_count": 39,
   "metadata": {},
   "outputs": [
    {
     "name": "stdout",
     "output_type": "stream",
     "text": [
      "[5, 10, 15, 25]\n"
     ]
    }
   ],
   "source": [
    "Lista_Numeros = [5, 10, 15]  \n",
    "Lista_Numeros.append(25)    \n",
    "print(Lista_Numeros) \n",
    "\n",
    "# El método .append() es una función muy útil en Python que es exclusivamente con listas(list), añade un elemento al final."
   ]
  },
  {
   "cell_type": "code",
   "execution_count": 40,
   "metadata": {},
   "outputs": [
    {
     "name": "stdout",
     "output_type": "stream",
     "text": [
      "5\n",
      "10\n",
      "15\n",
      "25\n"
     ]
    }
   ],
   "source": [
    "# Para mostrar las posiciones de los elementos de la lista (empieza desde cero(0))\n",
    "print(Lista_Numeros[0])\n",
    "print(Lista_Numeros[1])\n",
    "print(Lista_Numeros[2])\n",
    "print(Lista_Numeros[3])\n",
    "\n",
    "# Este codigo sirve para acceder a los elementos de una lista por su posición (indice)"
   ]
  },
  {
   "cell_type": "code",
   "execution_count": 41,
   "metadata": {},
   "outputs": [
    {
     "data": {
      "text/plain": [
       "['taza', 'plato', 'cuchara', 5, 10, 15, 25]"
      ]
     },
     "execution_count": 41,
     "metadata": {},
     "output_type": "execute_result"
    }
   ],
   "source": [
    "# Para unir listas haremos lo siguiente (NUEVOS NOMBRES Y VALORES)\n",
    "Utensilios = [\"taza\", \"plato\", \"cuchara\"]\n",
    "Utensilios + Lista_Numeros"
   ]
  },
  {
   "cell_type": "code",
   "execution_count": 42,
   "metadata": {},
   "outputs": [
    {
     "name": "stdout",
     "output_type": "stream",
     "text": [
      "['plato', 'cuchara']\n"
     ]
    }
   ],
   "source": [
    "Utensilios.remove(\"taza\")\n",
    "print(Utensilios)"
   ]
  },
  {
   "cell_type": "code",
   "execution_count": 43,
   "metadata": {},
   "outputs": [
    {
     "name": "stdout",
     "output_type": "stream",
     "text": [
      "['cuchillo', 'plato', 'cuchara']\n"
     ]
    }
   ],
   "source": [
    "# Para incluir elementos en una posición de la lista\n",
    "Utensilios.insert(0, \"cuchillo\")\n",
    "print(Utensilios)"
   ]
  },
  {
   "cell_type": "code",
   "execution_count": 46,
   "metadata": {},
   "outputs": [
    {
     "name": "stdout",
     "output_type": "stream",
     "text": [
      "Estado inicial: [100, -20, 50, 10]\n",
      "Lista ordenada:[-20, 10, 50, 100]\n"
     ]
    }
   ],
   "source": [
    "# Para ordenar una lista de variables (NUEVO EJEMPLO)\n",
    "Valores_Stock = [100, -20, 50, 10]\n",
    "print(f\"Estado inicial: {Valores_Stock}\")\n",
    "Valores_Stock.sort()\n",
    "print(f\"Lista ordenada:{Valores_Stock}\")"
   ]
  },
  {
   "cell_type": "code",
   "execution_count": 47,
   "metadata": {},
   "outputs": [
    {
     "name": "stdout",
     "output_type": "stream",
     "text": [
      "Código con formato: ABC-456-XYZ\n",
      "Código sin formato:ABC456XYZ\n"
     ]
    }
   ],
   "source": [
    "# Para limpiar y normalizar un código de producto (NUEVO EJEMPLO)\n",
    "codigo_sucio = \"ABC-456-XYZ\"\n",
    "print(f\"Código con formato: {codigo_sucio}\")\n",
    "codigo_limpio = codigo_sucio.replace(\"-\",\"\").strip()\n",
    "print(f\"Código sin formato:{codigo_limpio}\")"
   ]
  },
  {
   "cell_type": "markdown",
   "metadata": {},
   "source": [
    "Haremos un ejemplo donde se realizaran diversas estructuras que puede tener el tipo de dato **Tuplas (tuple)**"
   ]
  },
  {
   "cell_type": "code",
   "execution_count": null,
   "metadata": {},
   "outputs": [
    {
     "name": "stdout",
     "output_type": "stream",
     "text": [
      "('A', 'B', 'C')\n"
     ]
    },
    {
     "data": {
      "text/plain": [
       "tuple"
      ]
     },
     "execution_count": 45,
     "metadata": {},
     "output_type": "execute_result"
    }
   ],
   "source": [
    "#Tupla (tuple) - NUEVO EJEMPLO\n",
    "    # Opción 1\n",
    "letras_iniciales = ('A','B','C')\n",
    "print(letras_iniciales)\n",
    "type(letras_iniciales)\n",
    "# TUPLE son condiciones ordenadas pero inmutables (no se pueden modificar después de creadas)"
   ]
  },
  {
   "cell_type": "code",
   "execution_count": 46,
   "metadata": {},
   "outputs": [
    {
     "name": "stdout",
     "output_type": "stream",
     "text": [
      "Tupla: ('A', 'B', 'C')\n",
      "Tipo de dato: <class 'tuple'>\n"
     ]
    }
   ],
   "source": [
    "# Opcion 2 - NUEVO EJEMPLO\n",
    "print(\"Tupla:\", letras_iniciales)\n",
    "print(\"Tipo de dato:\", type(letras_iniciales))\n",
    "# TUPLE son condiciones ordenadas pero inmutables (no se pueden modificar después de creadas)"
   ]
  },
  {
   "cell_type": "code",
   "execution_count": 78,
   "metadata": {},
   "outputs": [
    {
     "data": {
      "text/plain": [
       "('Gato', 5, False)"
      ]
     },
     "execution_count": 78,
     "metadata": {},
     "output_type": "execute_result"
    }
   ],
   "source": [
    "animal_info_1 = (\"Gato\", 5, False)\n",
    "animal_info_1"
   ]
  },
  {
   "cell_type": "code",
   "execution_count": 79,
   "metadata": {},
   "outputs": [
    {
     "name": "stdout",
     "output_type": "stream",
     "text": [
      "Gato\n",
      "False\n",
      "5\n"
     ]
    }
   ],
   "source": [
    "# Para mostrar las posiciones de los elementos de una tupla (Empiezan desde 0) - NUEVO EJEMPLO\n",
    "\n",
    "print(animal_info_1[0])\n",
    "print(animal_info_1[2])\n",
    "print(animal_info_1[1])"
   ]
  },
  {
   "cell_type": "code",
   "execution_count": 80,
   "metadata": {},
   "outputs": [
    {
     "data": {
      "text/plain": [
       "(2023, 'Hembra', True)"
      ]
     },
     "execution_count": 80,
     "metadata": {},
     "output_type": "execute_result"
    }
   ],
   "source": [
    "animal_info_2 = (2023, \"Hembra\", True)\n",
    "animal_info_2"
   ]
  },
  {
   "cell_type": "code",
   "execution_count": 81,
   "metadata": {},
   "outputs": [
    {
     "data": {
      "text/plain": [
       "('Gato', 5, False, 2023, 'Hembra', True)"
      ]
     },
     "execution_count": 81,
     "metadata": {},
     "output_type": "execute_result"
    }
   ],
   "source": [
    "registro_animal_completo = (animal_info_1 + animal_info_2)\n",
    "registro_animal_completo"
   ]
  },
  {
   "cell_type": "code",
   "execution_count": 83,
   "metadata": {},
   "outputs": [
    {
     "data": {
      "text/plain": [
       "3"
      ]
     },
     "execution_count": 83,
     "metadata": {},
     "output_type": "execute_result"
    }
   ],
   "source": [
    "# Es un método para contar el número de elementos repetidos en la tupla (NUEVO EJEMPLO)\n",
    "\n",
    "tup_conteo = (1, 1, 8, 3, 1, 2)\n",
    "tup_conteo.count(1)"
   ]
  },
  {
   "cell_type": "markdown",
   "metadata": {},
   "source": [
    "Haremos un ejemplo donde se realizaran diversas estructuras que puede tener el tipo de dato **Diccionarios (dic)**"
   ]
  },
  {
   "cell_type": "code",
   "execution_count": null,
   "metadata": {},
   "outputs": [
    {
     "name": "stdout",
     "output_type": "stream",
     "text": [
      "{'modelo': 'Tundra', 'anio': 2022}\n"
     ]
    },
    {
     "data": {
      "text/plain": [
       "dict"
      ]
     },
     "execution_count": 47,
     "metadata": {},
     "output_type": "execute_result"
    }
   ],
   "source": [
    "#Diccionario (dict) - NUEVO EJEMPLO\n",
    "vehiculo_dicc = {\"modelo\": \"Tundra\", \"anio\": 2022}\n",
    "print(vehiculo_dicc)\n",
    "type(vehiculo_dicc)\n",
    "# Son colecciones de pares clave-valor. Cada valor se accede mediante una clave única"
   ]
  },
  {
   "cell_type": "code",
   "execution_count": null,
   "metadata": {},
   "outputs": [
    {
     "name": "stdout",
     "output_type": "stream",
     "text": [
      "Diccionario: {'modelo': 'Tundra', 'anio': 2022}\n",
      "Tipo de dato: <class 'dict'>\n"
     ]
    }
   ],
   "source": [
    "# Opcion 2 - NUEVO EJEMPLO\n",
    "print(\"Diccionario:\", vehiculo_dicc)\n",
    "print(\"Tipo de dato:\", type(vehiculo_dicc))\n",
    "# Son colecciones de pares clave-valor. Cada valor se accede mediante una clave única"
   ]
  },
  {
   "cell_type": "code",
   "execution_count": 84,
   "metadata": {},
   "outputs": [
    {
     "data": {
      "text/plain": [
       "{'Departamento': 'Ventas', 'Manager': 'Luisa Gómez', 'Empleados': 15}"
      ]
     },
     "execution_count": 84,
     "metadata": {},
     "output_type": "execute_result"
    }
   ],
   "source": [
    "# Almacenan pares de clave-valor (NUEVO EJEMPLO)\n",
    "departamento_tienda =  {\n",
    "    \"Departamento\": \"Ventas\", \n",
    "    \"Manager\": \"Luisa Gómez\", \n",
    "    \"Empleados\": 15}\n",
    "departamento_tienda"
   ]
  },
  {
   "cell_type": "code",
   "execution_count": 86,
   "metadata": {},
   "outputs": [
    {
     "data": {
      "text/plain": [
       "{'Título': 'El Viaje', 'Autor': 'Elena Ríos', 'Páginas': 400}"
      ]
     },
     "execution_count": 86,
     "metadata": {},
     "output_type": "execute_result"
    }
   ],
   "source": [
    "# Ejemplo de otro diccionario (NUEVO EJEMPLO):\n",
    "libro_registro = {\n",
    "    \"Título\": \"El Viaje\",\n",
    "    \"Autor\": \"Elena Ríos\",\n",
    "    \"Páginas\": 400\n",
    "}\n",
    "libro_registro"
   ]
  },
  {
   "cell_type": "markdown",
   "metadata": {},
   "source": [
    "### ***Ejemplo codigos explicados***"
   ]
  },
  {
   "cell_type": "code",
   "execution_count": 24,
   "metadata": {},
   "outputs": [],
   "source": [
    "Secuencia_Enteros = (1, 5, 9, 13, 17, 21, 25, 29, 33, 37)"
   ]
  },
  {
   "cell_type": "code",
   "execution_count": 27,
   "metadata": {},
   "outputs": [
    {
     "data": {
      "text/plain": [
       "tuple"
      ]
     },
     "execution_count": 27,
     "metadata": {},
     "output_type": "execute_result"
    }
   ],
   "source": [
    "# Miremos el numero de datos que tiene la variable (NUEVO EJEMPLO)\n",
    "type(Secuencia_Enteros)\n",
    "# Tuple es colecion de datos ordenada "
   ]
  },
  {
   "cell_type": "code",
   "execution_count": 49,
   "metadata": {},
   "outputs": [
    {
     "name": "stdout",
     "output_type": "stream",
     "text": [
      "Secuencia: (1, 5, 9, 13, 17, 21, 25, 29, 33, 37)\n",
      "Tipo de dato: <class 'tuple'>\n"
     ]
    }
   ],
   "source": [
    "print(\"Secuencia:\", Secuencia_Enteros)\n",
    "print(\"Tipo de dato:\", type(Secuencia_Enteros))"
   ]
  },
  {
   "cell_type": "code",
   "execution_count": 26,
   "metadata": {},
   "outputs": [
    {
     "name": "stdout",
     "output_type": "stream",
     "text": [
      "1\n",
      "37\n"
     ]
    }
   ],
   "source": [
    "Secuencia_Enteros = (1, 5, 9, 13, 17, 21, 25, 29, 33, 37)\n",
    "#Acceder al primer número\n",
    "print(Secuencia_Enteros[0])\n",
    "#Acceder al último número\n",
    "print(Secuencia_Enteros[-1]) #Salida: 37\n"
   ]
  },
  {
   "cell_type": "code",
   "execution_count": null,
   "metadata": {},
   "outputs": [
    {
     "name": "stdout",
     "output_type": "stream",
     "text": [
      "{1, 13, 17, 21, 25, 29, 33, 37}\n"
     ]
    }
   ],
   "source": [
    "grandes = {valor for valor in Secuencia_Enteros if valor > 10} # Este código crea un set con números mayores a 10 de la variable\n",
    "print(grandes)"
   ]
  },
  {
   "cell_type": "code",
   "execution_count": 30,
   "metadata": {},
   "outputs": [
    {
     "name": "stdout",
     "output_type": "stream",
     "text": [
      "{1, 5, 9}\n"
     ]
    }
   ],
   "source": [
    "pequenos = {valor for valor in Secuencia_Enteros if valor < 10}\n",
    "print(pequenos)"
   ]
  },
  {
   "cell_type": "markdown",
   "metadata": {},
   "source": [
    "### ***Sets***"
   ]
  },
  {
   "cell_type": "markdown",
   "metadata": {},
   "source": [
    "* Colecciones desordenadas de elementos únicos.\n",
    "* No permite elementos duplicados.\n",
    "* Se pueden agregar o eliminar elementos."
   ]
  },
  {
   "cell_type": "code",
   "execution_count": 87,
   "metadata": {},
   "outputs": [
    {
     "name": "stdout",
     "output_type": "stream",
     "text": [
      "{'rojo', 'negro', 'blanco'}\n"
     ]
    }
   ],
   "source": [
    "# Son colecciones desordenadas que no permiten que hayan elementos repetidos (NUEVO EJEMPLO)\n",
    "\n",
    "colores_base = (\"rojo\", \"negro\", \"rojo\", \"blanco\")\n",
    "colores_unicos_set = set(colores_base)\n",
    "print(colores_unicos_set)"
   ]
  },
  {
   "cell_type": "code",
   "execution_count": 88,
   "metadata": {},
   "outputs": [
    {
     "name": "stdout",
     "output_type": "stream",
     "text": [
      "{'Q', 'W', 'E', 'R', 'T'}\n"
     ]
    }
   ],
   "source": [
    "letras_teclado = [\"Q\", \"W\", \"E\", \"R\", \"T\"]\n",
    "letras_set = set(letras_teclado)\n",
    "print(letras_set)"
   ]
  },
  {
   "cell_type": "code",
   "execution_count": 89,
   "metadata": {},
   "outputs": [
    {
     "name": "stdout",
     "output_type": "stream",
     "text": [
      "set()\n",
      "{'Q', 'W', 'E', 'R', 'T', 'rojo', 'negro', 'blanco'}\n",
      "{'rojo', 'negro', 'blanco'}\n"
     ]
    }
   ],
   "source": [
    "# Algunas operaciones entre conjuntos (NUEVO EJEMPLO)\n",
    "\n",
    "print(colores_unicos_set.intersection(letras_set)) # Intersección\n",
    "print(colores_unicos_set.union(letras_set)) # Unión\n",
    "print(colores_unicos_set.difference(letras_set)) # Diferencia"
   ]
  },
  {
   "cell_type": "code",
   "execution_count": 1,
   "metadata": {},
   "outputs": [
    {
     "data": {
      "text/plain": [
       "{-3, 0, 1, 2}"
      ]
     },
     "execution_count": 1,
     "metadata": {},
     "output_type": "execute_result"
    }
   ],
   "source": [
    "# Podemos craer conjuntos de diferentes tipos de variables. (NUEVO EJEMPLO)\n",
    "set_de_letras = set([\"j\", \"k\", \"l\"])\n",
    "set_de_letras\n",
    "\n",
    "set_de_montos = set([50, -10, 100])\n",
    "set_de_montos\n",
    "\n",
    "# Los conjuntos no permiten que se repita un elemento:\n",
    "lista_con_duplicados = [1, 0, -3, 0, 2, 1] # Creamos una lista\n",
    "set_sin_duplicados = set(lista_con_duplicados)  # La convertimos en conjunto\n",
    "set_sin_duplicados # Aquí vemos que no se repiten los valores de la lista."
   ]
  },
  {
   "cell_type": "markdown",
   "metadata": {},
   "source": [
    "## **Conversión de tipos de datos**"
   ]
  },
  {
   "cell_type": "code",
   "execution_count": 1,
   "metadata": {},
   "outputs": [
    {
     "name": "stdout",
     "output_type": "stream",
     "text": [
      "45.0 <class 'float'>\n"
     ]
    }
   ],
   "source": [
    "# Para convertir un entero (en formato string) a float (NUEVO EJEMPLO)\n",
    "\n",
    "str_entero = \"45\"\n",
    "float_convertido = float(str_entero)\n",
    "print(float_convertido, type(float_convertido))"
   ]
  },
  {
   "cell_type": "code",
   "execution_count": 3,
   "metadata": {},
   "outputs": [
    {
     "name": "stdout",
     "output_type": "stream",
     "text": [
      "88 <class 'int'>\n"
     ]
    }
   ],
   "source": [
    "# Para convertir un string a entero (Cuidado: solo en casos donde el str sea un número) (NUEVO EJEMPLO)\n",
    "\n",
    "cadena_numero = \"88\"\n",
    "int_convertido = int(cadena_numero)\n",
    "print(int_convertido, type(int_convertido))"
   ]
  },
  {
   "cell_type": "code",
   "execution_count": 4,
   "metadata": {},
   "outputs": [
    {
     "name": "stdout",
     "output_type": "stream",
     "text": [
      "9.12 <class 'str'>\n"
     ]
    }
   ],
   "source": [
    "# Para convertir un float a string (NUEVO EJEMPLO)\n",
    "\n",
    "numero_decimal = 9.12\n",
    "str_decimal = str(numero_decimal)\n",
    "print(str_decimal, type(str_decimal))"
   ]
  },
  {
   "cell_type": "markdown",
   "metadata": {},
   "source": [
    "- En Python puedes usar f-strings para incluir variables en una cadena de texto:"
   ]
  },
  {
   "cell_type": "code",
   "execution_count": 2,
   "metadata": {},
   "outputs": [
    {
     "name": "stdout",
     "output_type": "stream",
     "text": [
      "El barco "Titan" parte a las 14 horas desde el muelle 7.\n"
     ]
    }
   ],
   "source": [
    "# Primero definimos las variables (NUEVO EJEMPLO):\n",
    "nombre_vehiculo = \"Titan\"\n",
    "hora_salida = 14\n",
    "numero_muelle = 7\n",
    "\n",
    "# Usamos el F-strings para cambiar la cadena:\n",
    "frase_viaje = f\"El barco \\\"{nombre_vehiculo}\\\" parte a las {hora_salida} horas desde el muelle {numero_muelle}.\"\n",
    "\n",
    "# Usamos print() para ver el mensaje en la consola:\n",
    "print(frase_viaje)"
   ]
  },
  {
   "cell_type": "code",
   "execution_count": null,
   "metadata": {},
   "outputs": [
    {
     "name": "stdout",
     "output_type": "stream",
     "text": [
      "True False True\n"
     ]
    }
   ],
   "source": [
    "# Otros ejemplos con variables en Python (NUEVO EJEMPLO):\n",
    "\n",
    "# Puedes asignar valores a varias variables en una sola línea:\n",
    "estado_ok, estado_error, estado_check = True, False, True\n",
    "print(estado_ok, estado_error, estado_check)\n",
    " "
   ]
  },
  {
   "cell_type": "markdown",
   "metadata": {},
   "source": [
    "## **Lógica y Control de Flujo (Condicionales y Ciclos)**"
   ]
  },
  {
   "cell_type": "markdown",
   "metadata": {},
   "source": [
    "El control de flujo es esencial para determinar qué código se ejecuta en base a ciertas condiciones o para repetir bloques de código de forma automática. "
   ]
  },
  {
   "cell_type": "markdown",
   "metadata": {},
   "source": [
    "### *Toma de Decisiones: Sentencias Condicionales*"
   ]
  },
  {
   "cell_type": "markdown",
   "metadata": {},
   "source": [
    "Utilizamos `if`, `elif` y `else` para ejecutar bloques de código distintos dependiendo de si las expresiones lógicas son verdaderas (`True`) o falsas (`False`)."
   ]
  },
  {
   "cell_type": "code",
   "execution_count": null,
   "metadata": {},
   "outputs": [],
   "source": [
    "# 1. Usando 'if' simple (si se cumple, se ejecuta) (NUEVO EJEMPLO)\n",
    "puntos_acumulados = 550\n",
    "if puntos_acumulados > 500:\n",
    "    print(\"El usuario es nivel platino.\")"
   ]
  },
  {
   "cell_type": "code",
   "execution_count": null,
   "metadata": {},
   "outputs": [],
   "source": [
    "# 2. Usando 'if' y 'else' (dos opciones excluyentes) (NUEVO EJEMPLO)\n",
    "clave_ingresada = 1234\n",
    "clave_correcta = 4321\n",
    "\n",
    "if clave_ingresada == clave_correcta:\n",
    "    print(\"Acceso concedido al sistema.\")\n",
    "else:\n",
    "    print(\"Clave incorrecta. Intente de nuevo.\")"
   ]
  },
  {
   "cell_type": "code",
   "execution_count": null,
   "metadata": {},
   "outputs": [],
   "source": [
    "# 3. Usando 'if', 'elif' y 'else' (múltiples condiciones) (NUEVO EJEMPLO)\n",
    "clima_dia = \"Lluvioso\"\n",
    "\n",
    "if clima_dia == \"Soleado\":\n",
    "    print(\"Día de playa.\")\n",
    "elif clima_dia == \"Nublado\":\n",
    "    print(\"Día perfecto para trabajar.\")\n",
    "elif clima_dia == \"Lluvioso\":\n",
    "    print(\"Alerta de inundación.\")\n",
    "else:\n",
    "    print(\"Clima desconocido.\")"
   ]
  },
  {
   "cell_type": "markdown",
   "metadata": {},
   "source": [
    "### *Repetición de Tareas: Bucles (Ciclos)*"
   ]
  },
  {
   "cell_type": "markdown",
   "metadata": {},
   "source": [
    "Los bucles nos permiten ejecutar un mismo bloque de código múltiples veces sin reescribirlo."
   ]
  },
  {
   "cell_type": "markdown",
   "metadata": {},
   "source": [
    "**Ciclo For:** Itera sobre elementos de una colección (como listas, tuplas o diccionarios) o un rango predefinido."
   ]
  },
  {
   "cell_type": "code",
   "execution_count": null,
   "metadata": {},
   "outputs": [],
   "source": [
    "# Recorriendo una tupla de meses (NUEVO EJEMPLO)\n",
    "trimestre_contable = (\"Enero\", \"Febrero\", \"Marzo\")\n",
    "for mes_fiscal in trimestre_contable:\n",
    "    print(f\"Revisando el reporte de: {mes_fiscal}\")\n",
    "\n",
    "# Imprimiendo los resultados de una cuenta regresiva de 10 a 7\n",
    "print(\"\\nIniciando cuenta regresiva:\")\n",
    "for valor_temporal in range(10, 6, -1):\n",
    "    print(f\"Tiempo restante: {valor_temporal}\")"
   ]
  },
  {
   "cell_type": "markdown",
   "metadata": {},
   "source": [
    "**Ciclo While:** Repite instrucciones mientras una condición sea verdadera. Se debe incluir un mecanismo para que la condición cambie y el ciclo termine."
   ]
  },
  {
   "cell_type": "code",
   "execution_count": null,
   "metadata": {},
   "outputs": [],
   "source": [
    "# Simulación de carga de archivos (NUEVO EJEMPLO)\n",
    "archivos_pendientes = 4\n",
    "\n",
    "while archivos_pendientes > 0:\n",
    "    print(f\"Cargando archivo. Faltan {archivos_pendientes} por subir.\")\n",
    "    archivos_pendientes -= 1 \n",
    "\n",
    "print(\"Carga completa.\")"
   ]
  },
  {
   "cell_type": "markdown",
   "metadata": {},
   "source": [
    "### *Control de Interrupción (break y continue)*"
   ]
  },
  {
   "cell_type": "markdown",
   "metadata": {},
   "source": [
    "Estas palabras clave ofrecen control fino sobre el flujo interno de los bucles:\n",
    "\n",
    "*   **`break`**: Detiene completamente el bucle actual.\n",
    "*   **`continue`**: Salta el resto del código de la iteración actual y pasa directamente a la siguiente iteración."
   ]
  },
  {
   "cell_type": "code",
   "execution_count": null,
   "metadata": {},
   "outputs": [],
   "source": [
    "# Usando 'break' para buscar un error crítico (NUEVO EJEMPLO)\n",
    "log_errores = [\"Info: 101\", \"Advertencia: 202\", \"ERROR CRÍTICO: 500\", \"Advertencia: 303\"]\n",
    "\n",
    "for mensaje_log in log_errores:\n",
    "    if \"CRÍTICO\" in mensaje_log:\n",
    "        print(f\"\\n¡ALTO! Fallo: {mensaje_log}\")\n",
    "        break\n",
    "    print(f\"Procesando registro: {mensaje_log}\")"
   ]
  },
  {
   "cell_type": "code",
   "execution_count": null,
   "metadata": {},
   "outputs": [],
   "source": [
    "# Usando 'continue' para ignorar valores negativos (NUEVO EJEMPLO)\n",
    "datos_produccion = [100, -5, 200, 300, -10, 150]\n",
    "\n",
    "for dato_registro in datos_produccion:\n",
    "    if dato_registro < 0:  # Si el valor es negativo\n",
    "        print(\"\\n-- Valor inválido detectado. Saltando.\")\n",
    "        continue  \n",
    "    print(f\"Dato de producción aceptado: {dato_registro}\")"
   ]
  }
 ],
 "metadata": {
  "kernelspec": {
   "display_name": "Python 3",
   "language": "python",
   "name": "python3"
  },
  "language_info": {
   "codemirror_mode": {
    "name": "ipython",
    "version": 3
   },
   "file_extension": ".py",
   "mimetype": "text/x-python",
   "name": "python",
   "nbconvert_exporter": "python",
   "pygments_lexer": "ipython3",
   "version": "3.13.1"
  }
 },
 "nbformat": 4,
 "nbformat_minor": 2
}

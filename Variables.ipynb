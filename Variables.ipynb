{
 "cells": [
  {
   "cell_type": "markdown",
   "metadata": {},
   "source": [
    "# **Tutorial Python: Con Ejercicios**"
   ]
  },
  {
   "cell_type": "markdown",
   "metadata": {},
   "source": [
    "¿Qué es Python?\n",
    "\n",
  "Es un lenguaje de propósito general con una ejecución rápida y eficaz.\n",
  "Su diseño promueve la legibilidad y reduce la complejidad del código.\n",
  "La gran comunidad lo convierte en el punto de partida perfecto para nuevos programadores.\n",
  "Ampliamente usado para scripts de automatización, análisis de Big Data y Machine Learning."
   ]
  },
  {
   "cell_type": "markdown",
   "metadata": {},
   "source": [
    "## **Documentación y Formato de Texto Esencial**\n",
    "]\n",
    "  },\n",
    "  {\n",
    "  \"cell_type\": \"markdown\",\n",
    "  \"metadata\": {},\n",
    "  \"source\": [\n",
    " \n",
    "Guías de Comentarios en Python\n",
    " - Utiliza el símbolo de número (#) para documentar o explicar tu código línea por línea.\n",
    " - Recuerda que Python no ejecuta nada después del símbolo #.\n",
    " \n",
    "Markdown para Resaltar Texto\n",
    " - **Texto en Negrita:** Utiliza doble asterisco al inicio y al final (**Ejemplo**).\n",
    " - *Texto en Cursiva:* Usa un único asterisco al inicio y al final (*Ejemplo*).\n",
    " - ~~Texto Tachado:~~ Rodea el texto con doble tilde (~~Ejemplo~~).\n",
    " - **Consejo:** Combina `***` para negrita y cursiva."
   ]
  },
  {
   "cell_type": "markdown",
   "metadata": {},
   "source": [
    "\n",
"**Documentación del Código (Comentarios)**\n",
      " - `# Este comentario explica la siguiente línea de código.`\n",
      " - `# También puedes comentar para deshabilitar código temporalmente.`\n",
      "\n",
      "\n",
      "**Formato de Texto (Estilo Markdown en Notebooks)**\n",
      "\n",
      " - **Texto en Negrita (importante)**\n",
      " - *Texto en Cursiva (énfasis)*\n",
      " - ***Negrita y Cursiva (doble énfasis)***\n",
      " - ~~Texto Tachado (contenido obsoleto)~~"
    ]
  },
  {
    "cell_type": "markdown",
    "metadata": {},
    "source": [
      "## **Introducción a Variables y Asignación de Valores**"
    ]
  },
  {
    "cell_type": "markdown",
    "metadata": {},
    "source": [
      "### *¿Qué son y cómo usarlas?*"
    ]
  },
  {
    "cell_type": "markdown",
    "metadata": {},
    "source": [
      "Las variables son como **etiquetas o contenedores** que usamos para guardar cualquier tipo de valor (números, textos, listas) en la memoria del programa. \n",
      "\n",
      "**Tipado Dinámico:** Python es inteligente; infiere automáticamente el tipo de dato que le asignas, lo que significa que no necesitas declararlo de antemano.\n",
      "\n",
      "**Consejos para Nombres de Variables (¡Buena Práctica!):**\n",
      " - Usa el guion bajo (`_`) para separar palabras en nombres largos. Ejemplo: `precio_final`.\n",
      " - El nombre de la variable **debe empezar con una letra o un guion bajo** (nunca un número o `$, @`).\n",
      " - Elige nombres que describan claramente lo que la variable contiene (legibilidad)."
    ]
  },
  {
    "cell_type": "code",
    "execution_count": 26,
    "metadata": {},
    "outputs": [
      {
        "data": {
          "text/plain": [
            "'Bogotá'"
          ]
        },
        "execution_count": 26,
        "metadata": {},
        "output_type": "execute_result"
      }
    ],
    "source": [
      "# Asignamos un texto a una variable llamada 'capital'\n",
      "capital_principal = \"Bogotá\"\n",
      "capital_principal"
    ]
  },
  {
    "cell_type": "code",
    "execution_count": 27,
    "metadata": {},
    "outputs": [
      {
        "data": {
          "text/plain": [
            "3.14159"
          ]
        },
        "execution_count": 27,
        "metadata": {},
        "output_type": "execute_result"
      }
    ],
    "source": [
      "# Asignamos un valor numérico decimal a una constante llamada 'PI'\n",
      "VALOR_PI = 3.14159\n",
      "VALOR_PI"
    ]
  },
  {
    "cell_type": "code",
    "execution_count": 1,
    "metadata": {},
    "outputs": [
      {
        "data": {
          "text/plain": [
            "<class 'str'>\n",
            "La respuesta es: 100"
          ]
        },
        "execution_count": 1,
        "metadata": {},
        "output_type": "execute_result"
      }
    ],
    "source": [
      "# Ejemplo de funciones útiles:\n",
      "mi_edad = 30\n",
      "puntuacion = 100\n",
      "\n",
      "# 1. type() Muestra el tipo de dato de una variable\n",
      "print(type(capital_principal))\n",
      "\n",
      "# 2. print() Muestra el resultado de la variable o de una operación en la consola\n",
      "print(f\"La respuesta es: {puntuacion}\")"
   ]
  },
  {
   "cell_type": "markdown",
   "metadata": {},
   "source": [
"## **Operadores: Cálculos y Comparaciones**"
    ]
  },
  {
    "cell_type": "markdown",
    "metadata": {},
    "source": [
      "Python soporta una amplia gama de operadores que nos permiten realizar cálculos numéricos (Aritméticos) y evaluar condiciones (Comparación y Lógicos).\n",
      "\n",
      "Aquí están los más comunes que usarás a diario :"
    ]
  },
  {
    "cell_type": "code",
    "execution_count": 52,
    "metadata": {},
    "outputs": [
      {
        "name": "stdout",
        "output_type": "stream",
        "text": [
          "Resultado Suma (5 + 3): 8\n",
          "Resultado Resta (10 - 4): 6\n",
          "Resultado Multiplicación (7 * 6): 42\n",
          "Resultado División Flotante (11 / 4): 2.75\n",
          "Resultado División Entera (11 // 4): 2\n",
          "Resultado Módulo (11 % 4): 3\n",
          "Resultado Potencia (2 ** 5): 32\n"
        ]
      }
    ],
    "source": [
      "# Operadores Aritméticos Esenciales\n",
      "num_a = 5\n",
      "num_b = 3\n",
      "\n",
      "print(f\"Resultado Suma ({num_a} + {num_b}): {num_a + num_b}\")\n",
      "print(f\"Resultado Resta (10 - 4): {10 - 4}\")\n",
      "print(f\"Resultado Multiplicación (7 * 6): {7 * 6}\")\n",
      "\n",
      "# Operadores de División y Resto (muy importantes)\n",
      "print(f\"Resultado División Flotante (11 / 4): {11 / 4}\")\n",
      "print(f\"Resultado División Entera (11 // 4): {11 // 4}\") # Devuelve solo la parte entera\n",
      "print(f\"Resultado Módulo (11 % 4): {11 % 4}\") # Devuelve el resto de la división\n",
      "print(f\"Resultado Potencia (2 ** 5): {2 ** 5}\") # Elevado a la potencia"
    ]
  },
  {
    "cell_type": "code",
    "execution_count": 1,
    "metadata": {},
    "outputs": [
      {
        "name": "stdout",
        "output_type": "stream",
        "text": [
          "La raíz cuadrada de 144 es: 12.0\n",
          "El tipo de dato de la raíz es: <class 'float'>\n"
        ]
      }
    ],
    "source": [
      "# Raíz Cuadrada (Requiere la librería 'math')\n",
      "from math import sqrt\n",
      "numero_ejemplo = 144\n",
      "raiz_calculada = sqrt(numero_ejemplo)\n",
      "print(f\"La raíz cuadrada de {numero_ejemplo} es: {raiz_calculada}\")\n",
      "print(f\"El tipo de dato de la raíz es: {type(raiz_calculada)}\") # La raíz siempre es un float"
    ]
  },
  {
    "cell_type": "code",
    "execution_count": 58,
    "metadata": {},
    "outputs": [
      {
        "name": "stdout",
        "output_type": "stream",
        "text": [
          "Es idéntico (8 == 8): True\n",
          "Es mayor o igual (15 >= 10): True\n",
          "Es diferente (5 != 5): False\n"
        ]
      }
    ],
    "source": [
      "# Operadores de Comparación (Devuelven True o False)\n",
      "print(f\"Es idéntico (8 == 8): {8 == 8}\") # Igual a\n",
      "print(f\"Es mayor o igual (15 >= 10): {15 >= 10}\") # Mayor o igual a\n",
      "print(f\"Es diferente (5 != 5): {5 != 5}\") # Diferente de"
    ]
  },
  {
    "cell_type": "code",
    "execution_count": 61,
    "metadata": {},
    "outputs": [
      {
        "name": "stdout",
        "output_type": "stream",
        "text": [
          "Resultado AND (ambas True): True\n",
          "Resultado OR (al menos una True): True\n",
          "Resultado NOT (negación): False\n"
        ]
      }
    ],
    "source": [
      "# Operadores Lógicos (Para combinar condiciones)\n",
      "condicion_1 = (10 > 5) \n",
      "condicion_2 = (4 < 7)\n",
      "\n",
      "print(f\"Resultado AND (ambas True): {condicion_1 and condicion_2}\")\n",
      "print(f\"Resultado OR (al menos una True): {condicion_1 or (4 > 7)}\")\n",
      "print(f\"Resultado NOT (negación): {not condicion_1}\")"
    ]
  },
  {
    "cell_type": "code",
    "execution_count": 3,
    "metadata": {},
    "outputs": [
      {
        "data": {
          "text/plain": [
            "True"
          ]
        },
        "execution_count": 3,
        "metadata": {},
        "output_type": "execute_result"
      }
    ],
    "source": [
      "# Ejemplo Combinado: Evaluación de un Perfil\n",
      "calificacion_minima = 4.5\n",
      "antiguedad_laboral = 2\n",
      "\n",
      "# ¿El candidato cumple con el mínimo de calificación Y con al menos 2 años de experiencia?\n",
      "candidato_apto = (calificacion_minima >= 4.0) and (antiguedad_laboral >= 2)\n",
      "candidato_apto\n"
   ]
  },
  {
   "cell_type": "markdown",
   "metadata": {},
   "source": [
    "## **Tipos de Datos Primitivos Esenciales**"
    ]
  },
  {
    "cell_type": "code",
    "execution_count": 29,
    "metadata": {},
    "outputs": [
      {
        "name": "stdout",
        "output_type": "stream",
        "text": [
          "Valor asignado: 42\n",
          "Clase de dato: <class 'int'>\n"
        ]
      }
    ],
    "source": [
      "# Tipo de Dato: Entero (int)\n",
      "# Representa números enteros, positivos o negativos, sin componente decimal.\n",
      "cantidad_productos = 42\n",
      "print(f\"Valor asignado: {cantidad_productos}\") \n",
      "print(f\"Clase de dato: {type(cantidad_productos)}\")"
    ]
  },
  {
    "cell_type": "code",
    "execution_count": 31,
    "metadata": {},
    "outputs": [
      {
        "name": "stdout",
        "output_type": "stream",
        "text": [
          "Valor asignado: 19.99\n",
          "Clase de dato: <class 'float'>\n"
        ]
      }
    ],
    "source": [
      "# Tipo de Dato: Flotante (float)\n",
      "# Representa números con decimales. Se usa un punto (.) como separador.\n",
      "precio_unitario = 19.99\n",
      "print(f\"Valor asignado: {precio_unitario}\")\n",
      "print(f\"Clase de dato: {type(precio_unitario)}\")"
    ]
  },
  {
    "cell_type": "code",
    "execution_count": 33,
    "metadata": {},
    "outputs": [
      {
        "name": "stdout",
        "output_type": "stream",
        "text": [
          "Mensaje: 'Hola, mundo!'\n",
          "Clase de dato: <class 'str'>\n"
        ]
      }
    ],
    "source": [
      "# Tipo de Dato: Cadena de Texto (str)\n",
      "# Secuencia de caracteres. Debe ir entre comillas simples ('') o dobles (\"\").\n",
      "saludo = 'Hola, mundo!'\n",
      "print(f\"Mensaje: {saludo}\")\n",
      "print(f\"Clase de dato: {type(saludo)}\")"
    ]
  },
  {
    "cell_type": "code",
    "execution_count": 35,
    "metadata": {},
    "outputs": [
      {
        "name": "stdout",
        "output_type": "stream",
        "text": [
          "Valor lógico: False\n",
          "Clase de dato: <class 'bool'>\n"
        ]
      }
    ],
    "source": [
      "# Tipo de Dato: Booleano (bool)\n",
      "# Solo representa valores lógicos: True (Verdadero) o False (Falso). \n",
      "esta_activo = False\n",
      "print(f\"Valor lógico: {esta_activo}\")\n",
      "print(f\"Clase de dato: {type(esta_activo)}\")"
   ]
  },
  {
   "cell_type": "code",
   "execution_count": null,
   "metadata": {},
   "outputs": [
    {
     "name": "stdout",
     "output_type": "stream",
     "text": [
      "True\n",
      "False\n"
     ]
    }
   ],
   "source": [
    "# Operador Lógico NOT: Se usa para invertir un valor booleano (True -> False / False -> True)\n",
      "nota_aprobatoria = 75\n",
      "esta_aprobado = (nota_aprobatoria >= 60)\n",
      "\n",
      "print(f\"El estudiante está aprobado: {esta_aprobado}\")\n",
      "print(f\"La negación lógica es: {not esta_aprobado}\") # Usamos NOT para evaluar lo contrario."
    ]
  },
  {
    "cell_type": "code",
    "execution_count": 37,
    "metadata": {},
    "outputs": [
      {
        "name": "stdout",
        "output_type": "stream",
        "text": [
          "Colección: ['Manzana', 'Pera', 'Uva']\n",
          "Tipo de Dato: <class 'list'>\n"
        ]
      }
    ],
    "source": [
      "## **Estructuras de Datos: Listas (List)**\n",
      "# Las Listas son colecciones ORDENADAS, INDEXADAS y MUTABLES (se pueden cambiar después de crearse).\n",
      "# Se definen usando corchetes [].\n",
      "cesta_compras = ['Manzana', 'Pera', 'Uva']\n",
      "print(f\"Colección: {cesta_compras}\")\n",
      "print(f\"Tipo de Dato: {type(cesta_compras)}\")"
    ]
  },
  {
    "cell_type": "markdown",
    "metadata": {},
    "source": [
      "Las listas son estructuras de datos muy flexibles . A continuación, vemos algunas de sus operaciones más comunes:"
    ]
  },
  {
    "cell_type": "code",
    "execution_count": 39,
    "metadata": {},
    "outputs": [
      {
        "name": "stdout",
        "output_type": "stream",
        "text": [
          "Lista Inicial: ['Manzana', 'Pera', 'Uva']\n",
          "Lista Modificada (append): ['Manzana', 'Pera', 'Uva', 'Naranja']\n"
        ]
      }
    ],
    "source": [
      "# Método .append(): Añade un elemento al final de la lista.\n",
      "print(f\"Lista Inicial: {cesta_compras}\")\n",
      "cesta_compras.append('Naranja')\n",
      "print(f\"Lista Modificada (append): {cesta_compras}\")"
    ]
  },
  {
    "cell_type": "code",
    "execution_count": 40,
    "metadata": {},
    "outputs": [
      {
        "name": "stdout",
        "output_type": "stream",
        "text": [
          "Primer Elemento (índice 0): Manzana\n",
          "Último Elemento (índice 3): Naranja\n"
        ]
      }
    ],
    "source": [
      "# Acceso por Índice (La posición empieza en 0)\n",
      "print(f\"Primer Elemento (índice 0): {cesta_compras[0]}\")\n",
      "print(f\"Último Elemento (índice 3): {cesta_compras[3]}\")"
    ]
  },
  {
    "cell_type": "code",
    "execution_count": 41,
    "metadata": {},
    "outputs": [
      {
        "data": {
          "text/plain": [
            "['Manzana', 'Pera', 'Uva', 'Naranja', 'Leche', 'Pan']"
          ]
        },
        "execution_count": 41,
        "metadata": {},
        "output_type": "execute_result"
      }
    ],
    "source": [
      "# Concatenación: Unir listas usando el operador '+'\n",
      "productos_lacteos = ['Leche', 'Pan']\n",
      "cesta_completa = cesta_compras + productos_lacteos\n",
      "cesta_completa"
    ]
  },
  {
    "cell_type": "code",
    "execution_count": 42,
    "metadata": {},
    "outputs": [
      {
        "name": "stdout",
        "output_type": "stream",
        "text": [
          "['Melón', 'Manzana', 'Pera', 'Uva', 'Naranja']\n"
        ]
      }
    ],
    "source": [
      "# Método .insert(índice, elemento): Agrega un elemento en una posición específica.\n",
      "cesta_compras.insert(0, 'Melón')\n",
      "print(cesta_compras)"
    ]
  },
  {
    "cell_type": "code",
    "execution_count": 46,
    "metadata": {},
    "outputs": [
      {
        "name": "stdout",
        "output_type": "stream",
        "text": [
          "Precios desordenados: [8.9, 3.7, 1.2, 5.5]\n",
          "Precios ordenados: [1.2, 3.7, 5.5, 8.9]\n"
        ]
      }
    ],
    "source": [
      "# Método .sort(): Ordena los elementos de la lista de forma ascendente (in-place).\n",
      "lista_precios = [8.9, 3.7, 1.2, 5.5]\n",
      "print(f\"Precios desordenados: {lista_precios}\")\n",
      "lista_precios.sort()\n",
      "print(f\"Precios ordenados: {lista_precios}\")"
    ]
  },
  {
    "cell_type": "code",
    "execution_count": 47,
    "metadata": {},
    "outputs": [
      {
        "name": "stdout",
        "output_type": "stream",
        "text": [
          "Texto Original: '1.036.449.040'\n",
          "Texto Limpio (sin puntos): 1036449040\n"
        ]
      }
    ],
    "source": [
      "# NOTA: Manipulación de Cadenas (str) con .replace()\n",
      "id_con_formato = \"1.036.449.040\"\n",
      "print(f\"Texto Original: '{id_con_formato}'\")\n",
      "id_limpio = id_con_formato.replace(\".\", \"\")\n",
      "print(f\"Texto Limpio (sin puntos): {id_limpio}\")"
    ]
  },
  {
    "cell_type": "markdown",
    "metadata": {},
    "source": [
      "## **Estructuras de Datos: Tuplas (Tuple)**"
    ]
  },
  {
    "cell_type": "code",
    "execution_count": null,
    "metadata": {},
    "outputs": [
      {
        "name": "stdout",
        "output_type": "stream",
        "text": [
          "Tupla: ('Latitud', 4.71, 'Longitud', -74.07)\n",
          "Tipo de Dato: <class 'tuple'>\n"
        ]
      }
    ],
    "source": [
      "# Las Tuplas son colecciones ORDENADAS, INDEXADAS, pero INMUTABLES (no se pueden modificar).\n",
      "# Se definen usando paréntesis ().\n",
      "coordenadas_bogota = ('Latitud', 4.71, 'Longitud', -74.07)\n",
      "print(f\"Tupla: {coordenadas_bogota}\")\n",
      "print(f\"Tipo de Dato: {type(coordenadas_bogota)}\")"
    ]
  },
  {
    "cell_type": "code",
    "execution_count": 79,
    "metadata": {},
    "outputs": [
      {
        "name": "stdout",
        "output_type": "stream",
        "text": [
          "Etiqueta: Latitud\n",
          "Valor: 4.71\n"
        ]
      }
    ],
    "source": [
      "# Accediendo a elementos de la Tupla\n",
      "print(f\"Etiqueta: {coordenadas_bogota[0]}\")\n",
      "print(f\"Valor: {coordenadas_bogota[1]}\")"
    ]
  },
  {
    "cell_type": "code",
    "execution_count": 81,
    "metadata": {},
    "outputs": [
      {
        "data": {
          "text/plain": [
            "('Latitud', 4.71, 'Longitud', -74.07, 'País', 'Colombia')"
          ]
        },
        "execution_count": 81,
        "metadata": {},
        "output_type": "execute_result"
      }
    ],
    "source": [
      "# Concatenación de Tuplas\n",
      "datos_adicionales = ('País', 'Colombia')\n",
      "tupla_completa = coordenadas_bogota + datos_adicionales\n",
      "tupla_completa"
    ]
    }
   ],
   "source": [
    "# Es un método para contar el número de elementos repetidos en la tupla\n",
    "\n",
    "tup_4 = (1, 8, 9, 3, 4, 2)\n",
    "tup_4.count(2)"
   ]
  },
  {
   "cell_type": "markdown",
   "metadata": {},
   "source": [
    "Haremos un ejemplo donde se realizaran diversas estructuras que puede tener el tipo de dato **Diccionarios (dic)**"
   ]
  },
  {
   "cell_type": "code",
   "execution_count": null,
   "metadata": {},
   "outputs": [
    {
     "name": "stdout",
     "output_type": "stream",
     "text": [
      "{'nombre': 'Juan', 'edad': 25}\n"
     ]
    },
    {
     "data": {
      "text/plain": [
       "dict"
      ]
     },
     "execution_count": 47,
     "metadata": {},
     "output_type": "execute_result"
    }
   ],
   "source": [
    "#Diccionario (dict)\n",
    "diccionario = {\"nombre\": \"Juan\", \"edad\": 25}\n",
    "print(diccionario)\n",
    "type(diccionario)\n",
    "# Son colecciones de pares clave-valor. Cada valor se accede mediante una clave única"
   ]
  },
  {
   "cell_type": "code",
   "execution_count": null,
   "metadata": {},
   "outputs": [
    {
     "name": "stdout",
     "output_type": "stream",
     "text": [
      "Diccionario: {'nombre': 'Juan', 'edad': 25}\n",
      "Tipo de dato: <class 'dict'>\n"
     ]
    }
   ],
   "source": [
    "# Opcion 2\n",
    "print(\"Diccionario:\", diccionario)\n",
    "print(\"Tipo de dato:\", type(diccionario))\n",
    "# Son colecciones de pares clave-valor. Cada valor se accede mediante una clave única"
   ]
  },
  {
   "cell_type": "code",
   "execution_count": 84,
   "metadata": {},
   "outputs": [
    {
     "data": {
      "text/plain": [
       "{'Nombre': 'Santiago', 'Apellido': 'Suarez', 'Edad': '23', 'Sexo': 'M'}"
      ]
     },
     "execution_count": 84,
     "metadata": {},
     "output_type": "execute_result"
    }
   ],
   "source": [
    "# Almacenan pares de clave-valor\n",
    "cliente =  {\n",
    "    \"Nombre\": \"Santiago\", \n",
    "    \"Apellido\": \"Suarez\", \n",
    "    \"Edad\": \"23\", \n",
    "    \"Sexo\": \"M\"}\n",
    "cliente"
   ]
  },
  {
   "cell_type": "code",
   "execution_count": 86,
   "metadata": {},
   "outputs": [
    {
     "data": {
      "text/plain": [
       "{'Nombre': 'Azul', 'Apellido': 'Mora', 'Edad': '18', 'Sexo': 'M'}"
      ]
     },
     "execution_count": 86,
     "metadata": {},
     "output_type": "execute_result"
    }
   ],
   "source": [
    "# Ejemplo:\n",
    "cliente_2 = {\n",
    "    \"Nombre\": \"Azul\",\n",
    "    \"Apellido\": \"Mora\",\n",
    "    \"Edad\": \"18\",\n",
    "    \"Sexo\": \"M\"\n",
    "}\n",
    "cliente_2"
   ]
  },
  {
   "cell_type": "markdown",
   "metadata": {},
   "source": [
    "### ***Ejemplo codigos explicados***"
   ]
  },
  {
   "cell_type": "code",
   "execution_count": 24,
   "metadata": {},
   "outputs": [],
   "source": [
    "Nro = (1,2,3,4,5,6,7,8,9,10,11,12,13,14,15,16,17,18,19,20)"
   ]
  },
  {
   "cell_type": "code",
   "execution_count": 27,
   "metadata": {},
   "outputs": [
    {
     "data": {
      "text/plain": [
       "tuple"
      ]
     },
     "execution_count": 27,
     "metadata": {},
     "output_type": "execute_result"
    }
   ],
   "source": [
    "# Miremos el numero de datos que tiene la variable Nro\n",
    "type(Nro)\n",
    "# Tuple es colecion de datos ordenada "
   ]
  },
  {
   "cell_type": "code",
   "execution_count": 49,
   "metadata": {},
   "outputs": [
    {
     "name": "stdout",
     "output_type": "stream",
     "text": [
      "Numeros: (1, 2, 3, 4, 5, 6, 7, 8, 9, 10, 11, 12, 13, 14, 15, 16, 17, 18, 19, 20)\n",
      "Tipo de dato: <class 'tuple'>\n"
     ]
    }
   ],
   "source": [
    "print(\"Numeros:\", Nro)\n",
    "print(\"Tipo de dato:\", type(Nro))"
   ]
  },
  {
   "cell_type": "code",
   "execution_count": 26,
   "metadata": {},
   "outputs": [
    {
     "name": "stdout",
     "output_type": "stream",
     "text": [
      "1\n",
      "20\n"
     ]
    }
   ],
   "source": [
    "Nro = (1,2,3,4,5,6,7,8,9,10,11,12,13,14,15,16,17,18,19,20)\n",
    "#Acceder al primer número\n",
    "print(Nro[0])\n",
    "#Acceder al último número\n",
    "print(Nro[-1]) #Salida: 20\n"
   ]
  },
  {
   "cell_type": "code",
   "execution_count": null,
   "metadata": {},
   "outputs": [
    {
     "name": "stdout",
     "output_type": "stream",
     "text": [
      "{2, 4, 6, 8, 10, 12, 14, 16, 18, 20}\n"
     ]
    }
   ],
   "source": [
    "pares = {num for num in Nro if num % 2 == 0} # Este codigo crea una lista con los numeros pares de la variable Nro\n",
    "print(pares)"
   ]
  },
  {
   "cell_type": "code",
   "execution_count": 30,
   "metadata": {},
   "outputs": [
    {
     "name": "stdout",
     "output_type": "stream",
     "text": [
      "{1, 3, 5, 7, 9, 11, 13, 15, 17, 19}\n"
     ]
    }
   ],
   "source": [
    "impares = {num for num in Nro if num % 2 != 0}\n",
    "print(impares)"
   ]
  },
  {
   "cell_type": "markdown",
   "metadata": {},
   "source": [
    "### ***Sets***"
   ]
  },
  {
   "cell_type": "markdown",
   "metadata": {},
   "source": [
    "* Colecciones desordenadas de elementos únicos.\n",
    "* No permite elementos duplicados.\n",
    "* Se pueden agregar o eliminar elementos."
   ]
  },
  {
   "cell_type": "code",
   "execution_count": 87,
   "metadata": {},
   "outputs": [
    {
     "name": "stdout",
     "output_type": "stream",
     "text": [
      "{10, 4, 13, 7}\n"
     ]
    }
   ],
   "source": [
    "# Son colecciones desordenadas que no permiten que hayan elementos repetidos\n",
    "\n",
    "nros = (4, 7, 10, 13, 4)\n",
    "set_1 = set(nros)\n",
    "print(set_1)"
   ]
  },
  {
   "cell_type": "code",
   "execution_count": 88,
   "metadata": {},
   "outputs": [
    {
     "name": "stdout",
     "output_type": "stream",
     "text": [
      "{0, 1, 2, 5, -3}\n"
     ]
    }
   ],
   "source": [
    "nros_2 = [1, 0, -3, 2, 5]\n",
    "set_2 = set(nros_2)\n",
    "print(set_2)"
   ]
  },
  {
   "cell_type": "code",
   "execution_count": 89,
   "metadata": {},
   "outputs": [
    {
     "name": "stdout",
     "output_type": "stream",
     "text": [
      "set()\n",
      "{0, 1, 2, 4, 5, 7, 10, 13, -3}\n",
      "{10, 4, 13, 7}\n"
     ]
    }
   ],
   "source": [
    "# Algunas operaciones entre conjuntos\n",
    "\n",
    "print(set_2.intersection(set_1))\n",
    "print(set_1.union(set_2))\n",
    "print(set_1.difference(set_2))"
   ]
  },
  {
   "cell_type": "code",
   "execution_count": 1,
   "metadata": {},
   "outputs": [
    {
     "data": {
      "text/plain": [
       "{-3, 0, 1, 2}"
      ]
     },
     "execution_count": 1,
     "metadata": {},
     "output_type": "execute_result"
    }
   ],
   "source": [
    "# Podemos craer conjuntos de diferentes tipos de variables.\n",
    "conjunto_1 = set([\"f\", \"x\", \"s\"])\n",
    "conjunto_1\n",
    "\n",
    "conjunto_2 = set([0, -200, 200])\n",
    "conjunto_2\n",
    "\n",
    "# Los conjuntos no permiten que se repita un elemento:\n",
    "lista = [1, 0, -3, 0, 2, 1] # Creamos una lista\n",
    "conjunto_3 = set(lista)  # La convertimos en conjunto\n",
    "conjunto_3 # Aquí vemos que no se repiten los valores de la lista."
   ]
  },
  {
   "cell_type": "markdown",
   "metadata": {},
   "source": [
    "## **Conversión de tipos de datos**"
   ]
  },
  {
   "cell_type": "code",
   "execution_count": 1,
   "metadata": {},
   "outputs": [
    {
     "name": "stdout",
     "output_type": "stream",
     "text": [
      "20.0 <class 'float'>\n"
     ]
    }
   ],
   "source": [
    "# Para convertir un entero a float\n",
    "\n",
    "entero_1 = \"20\"\n",
    "float_1 = float(entero_1)\n",
    "print(float_1, type(float_1))"
   ]
  },
  {
   "cell_type": "code",
   "execution_count": 3,
   "metadata": {},
   "outputs": [
    {
     "name": "stdout",
     "output_type": "stream",
     "text": [
      "36 <class 'int'>\n"
     ]
    }
   ],
   "source": [
    "# Para convertir un string a entero (Cuidado: solo en casos donde el str sea un número)\n",
    "\n",
    "str_1 = \"36\"\n",
    "entero_2 = int(str_1)\n",
    "print(entero_2, type(entero_2))"
   ]
  },
  {
   "cell_type": "code",
   "execution_count": 4,
   "metadata": {},
   "outputs": [
    {
     "name": "stdout",
     "output_type": "stream",
     "text": [
      "17.547 <class 'str'>\n"
     ]
    }
   ],
   "source": [
    "# Para convertir un float a string\n",
    "\n",
    "float_2 = 17.547\n",
    "str_2 = str(float_2)\n",
    "print(str_2, type(str_2))"
   ]
  },
  {
   "cell_type": "markdown",
   "metadata": {},
   "source": [
    "- En Python puedes usar f-strings para incluir variables en una cadena de texto:"
   ]
  },
  {
   "cell_type": "code",
   "execution_count": 2,
   "metadata": {},
   "outputs": [
    {
     "name": "stdout",
     "output_type": "stream",
     "text": [
      "Hola, me llamo Sara, tengo 21 años y vivo en Caldas,Ant.\n"
     ]
    }
   ],
   "source": [
    "# Primero definimos las variables:\n",
    "nombre = \"Sara\"\n",
    "edad = 21\n",
    "ciudad = \"Caldas,Ant\"\n",
    "\n",
    "# Usamos el F-strings para cambiar la cadena:\n",
    "mensaje = f\"Hola, me llamo {nombre}, tengo {edad} años y vivo en {ciudad}.\"\n",
    "\n",
    "# Usamos print() para ver el mensaje en la consola:\n",
    "print(mensaje)"
   ]
  },
  {
   "cell_type": "code",
   "execution_count": null,
   "metadata": {},
   "outputs": [
    {
     "name": "stdout",
     "output_type": "stream",
     "text": [
      "1 2 3\n"
     ]
    }
   ],
   "source": [
    "# Otros ejemplos con variables en Python:\n",
    "\n",
    "# Puedes asignar valores a varias variables:\n",
    "a, b, c = 1, 2, 3\n",
    "print(a, b, c)\n",
    " "
   ]
  }
 ],
 "metadata": {
  "kernelspec": {
   "display_name": "Python 3",
   "language": "python",
   "name": "python3"
  },
  "language_info": {
   "codemirror_mode": {
    "name": "ipython",
    "version": 3
   },
   "file_extension": ".py",
   "mimetype": "text/x-python",
   "name": "python",
   "nbconvert_exporter": "python",
   "pygments_lexer": "ipython3",
   "version": "3.13.1"
  }
 },
 "nbformat": 4,
 "nbformat_minor": 2
}

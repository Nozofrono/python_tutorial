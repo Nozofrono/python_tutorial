{
 "cells": [
  {
   "cell_type": "markdown",
   "metadata": {},
   "source": [
    "## **Control de Flujo: Sentencias Condicionales**"
   ]
  },
  {
   "cell_type": "markdown",
   "metadata": {},
   "source": [
    "Las sentencias condicionales (`if`, `elif`, `else`) permiten que el programa tome decisiones basadas en si una condición booleana es verdadera (`True`) o falsa (`False`)."
   ]
  },
  {
   "cell_type": "code",
   "execution_count": null,
   "metadata": {},
   "outputs": [],
   "source": [
    "# Ejemplo 1: Condición simple (if)\n",
    "edad = 25\n",
    "if edad >= 18:\n",
    "    print(\"Es un adulto.\")"
   ]
  },
  {
   "cell_type": "code",
   "execution_count": null,
   "metadata": {},
   "outputs": [],
   "source": [
    "# Ejemplo 2: if y else (dos caminos)\n",
    "temperatura = 15\n",
    "if temperatura > 25:\n",
    "    print(\"Hace calor, lleva ropa ligera.\")\n",
    "else:\n",
    "    print(\"Hace frío o está fresco, lleva un abrigo.\")"
   ]
  },
  {
   "cell_type": "code",
   "execution_count": null,
   "metadata": {},
   "outputs": [],
   "source": [
    "# Ejemplo 3: if, elif y else (múltiples caminos)\n",
    "nota = 85\n",
    "if nota >= 90:\n",
    "    print(\"Calificación A\")\n",
    "elif nota >= 80:\n",
    "    print(\"Calificación B\")\n",
    "elif nota >= 70:\n",
    "    print(\"Calificación C\")\n",
    "else:\n",
    "    print(\"Calificación D (Reprobado)\")"
   ]
  },
  {
   "cell_type": "markdown",
   "metadata": {},
   "source": [
    "## **Control de Flujo: Ciclos (Bucles)**"
   ]
  },
  {
   "cell_type": "markdown",
   "metadata": {},
   "source": [
    "Los bucles permiten ejecutar un bloque de código repetidamente. Esto es crucial para automatizar tareas y procesar colecciones de datos."
   ]
  },
  {
   "cell_type": "markdown",
   "metadata": {},
   "source": [
    "### *Ciclo For*"
   ]
  },
  {
   "cell_type": "markdown",
   "metadata": {},
   "source": [
    "El ciclo `for` se utiliza para iterar sobre los elementos de una secuencia (como listas, tuplas, diccionarios o rangos)."
   ]
  },
  {
   "cell_type": "code",
   "execution_count": null,
   "metadata": {},
   "outputs": [],
   "source": [
    "# Iterando sobre una lista\n",
    "deportes = [\"Fútbol\", \"Baloncesto\", \"Natación\", \"Tenis\"]\n",
    "for deporte in deportes:\n",
    "    print(f\"El deporte es: {deporte}\")\n",
    "\n",
    "# Usando range() para un número específico de repeticiones\n",
    "print(\"\\nContando de 0 a 4:\")\n",
    "for i in range(5):\n",
    "    print(i)"
   ]
  },
  {
   "cell_type": "markdown",
   "metadata": {},
   "source": [
    "### *Ciclo While*"
   ]
  },
  {
   "cell_type": "markdown",
   "metadata": {},
   "source": [
    "El ciclo `while` ejecuta un bloque de código mientras una condición específica permanezca siendo `True`. Es fundamental asegurarse de que la condición eventualmente se vuelva `False` para evitar un bucle infinito."
   ]
  },
  {
   "cell_type": "code",
   "execution_count": null,
   "metadata": {},
   "outputs": [],
   "source": [
    "# Bucle while simple\n",
    "x = 5\n",
    "while x > 0:\n",
    "    print(f\"El valor de x es: {x}\")\n",
    "    x -= 1 # Decrementamos x en 1 para acercarnos a la condición de salida"
   ]
  },
  {
   "cell_type": "markdown",
   "metadata": {},
   "source": [
    "### **Break y Continue**"
   ]
  },
  {
   "cell_type": "markdown",
   "metadata": {},
   "source": [
    "Dentro de los bucles, podemos usar dos palabras clave para controlar su ejecución:\n",
    "\n",
    "*   **`break`**: Detiene inmediatamente el bucle, incluso si la condición del `while` es `True` o si aún quedan elementos por iterar en un `for`.\n",
    "*   **`continue`**: Omite la iteración actual y pasa a la siguiente iteración del bucle."
   ]
  },
  {
   "cell_type": "code",
   "execution_count": null,
   "metadata": {},
   "outputs": [],
   "source": [
    "# Ejemplo de 'break'\n",
    "for numero in range(10):\n",
    "    if numero == 5:\n",
    "        break  # Salimos del bucle cuando encontramos el 5\n",
    "    print(numero)"
   ]
  },
  {
   "cell_type": "code",
   "execution_count": null,
   "metadata": {},
   "outputs": [],
   "source": [
    "# Ejemplo de 'continue'\n",
    "for i in range(1, 6):\n",
    "    if i % 2 == 0:  # Si el número es par\n",
    "        continue  # Saltamos esta impresión y vamos al siguiente i\n",
    "    print(f\"Número impar: {i}\")"
   ]
  }
 ]
}

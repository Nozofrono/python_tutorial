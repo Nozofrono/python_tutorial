{
  "cells": [
    {
      "cell_type": "markdown",
      "metadata": {},
      "source": [
        "# 🐍 **Introducción Esencial a Python**"
      ]
    },
    {
      "cell_type": "markdown",
      "metadata": {},
      "source": [
        "## ¿Qué Hace a Python Tan Popular?\n",
        "\n",
        "Python es un lenguaje de programación de **alto nivel**, lo que significa que es muy similar al lenguaje humano. Es un lenguaje **interpretado** (ejecuta el código línea por línea) y de **propósito general** (sirve para casi todo).\n",
        "\n",
        "**Su Superpoder:** Es famoso por su **sintaxis limpia y legible**, que lo convierte en la elección perfecta para **principiantes**. Además, es un motor de **productividad** para desarrolladores experimentados.\n",
        "\n",
        "**Usos Comunes:** Análisis de Datos, Desarrollo Web (Django, Flask), Inteligencia Artificial (IA), Machine Learning, Automatización y más."
      ]
    },
    {
      "cell_type": "markdown",
      "metadata": {},
      "source": [
        "## 📝 Nociones Básicas: Comentarios y Formato (Markdown)"
      ]
    },
    {
      "cell_type": "markdown",
      "metadata": {},
      "source": [
        "### Comentarios en Python\n",
        "Los comentarios son notas que el programador añade al código para explicar su funcionamiento. El intérprete de Python las ignora. Se crean usando el símbolo de almohadilla (`#`).\n",
        "\n",
        "* Para comentar una línea, empieza con `#`.\n",
        "* Puedes dejar espacio o escribir inmediatamente después del `#`.\n",
        "\n",
        "**Ejemplos de Comentarios:**\n",
        "```python\n",
        "# Esto es un comentario de línea completa.\n",
        "mi_variable = 10 # Esto es un comentario en línea.\n",
        "```\n",
        "\n",
        "### Formato de Texto en Notebooks (Markdown)\n",
        "Las celdas de *Markdown* permiten dar formato al texto en este entorno (como negrita o cursiva).\n",
        "\n",
        "* **Negrita:** Usa dos asteriscos al principio y al final del texto: `**texto**`\n",
        "* *Cursiva:* Usa un asterisco al principio y al final del texto: `*texto*`\n",
        "* ***Negrita y Cursiva:*** Usa tres asteriscos: `***texto***`\n",
        "* ~~Tachado:~~ Usa dos virgulillas: `~~texto~~`"
      ]
    },
    {
      "cell_type": "markdown",
      "metadata": {},
      "source": [
        "## 💾 Variables y Tipos de Datos Fundamentales"
      ]
    },
    {
      "cell_type": "markdown",
      "metadata": {},
      "source": [
        "### Variables\n",
        "Una **variable** es como una caja etiquetada donde se guarda información (datos). Python es dinámico, lo que significa que **infiere automáticamente** el tipo de dato que estás almacenando, sin necesidad de declararlo.\n",
        "\n",
        "**Reglas para Nombrar Variables:**\n",
        "* **Evita espacios:** Si necesitas separador, usa guion bajo (`mi_variable`).\n",
        "* **No empieces con números** ni uses caracteres especiales.\n",
        "* Usa nombres **descriptivos** (ej: `edad`, `nombre_completo`)."
      ]
    },
    {
      "cell_type": "code",
      "execution_count": 26,
      "metadata": {},
      "outputs": [
        {
          "data": {
            "text/plain": [
              "(1, 3, 5, 7, 9, 11, 13)"
            ]
          },
          "execution_count": 26,
          "metadata": {},
          "output_type": "execute_result"
        }
      ],
      "source": [
        "# Almacenando una secuencia de números impares\n",
        "Nros_impares = 1, 3, 5, 7, 9, 11, 13\n",
        "Nros_impares"
      ]
    },
    {
      "cell_type": "code",
      "execution_count": 27,
      "metadata": {},
      "outputs": [
        {
          "data": {
            "text/plain": [
              "(68, 56, 45, 40, 89)"
            ]
          },
          "execution_count": 27,
          "metadata": {},
          "output_type": "execute_result"
        }
      ],
      "source": [
        "# Almacenando una secuencia de pesos\n",
        "Peso = 68, 56, 45, 40, 89\n",
        "Peso"
      ]
    },
    {
      "cell_type": "markdown",
      "metadata": {},
      "source": [
        "### Funciones de Ayuda\n",
        "Utiliza la función `type()` para saber qué tipo de dato contiene una variable y `print()` para ver un resultado o mensaje en la consola."
      ]
    },
    {
      "cell_type": "code",
      "execution_count": 1,
      "metadata": {},
      "outputs": [
        {
          "data": {
            "text/plain": [
              "<class 'tuple'>"
            ]
          },
          "execution_count": 1,
          "metadata": {},
          "output_type": "execute_result"
        }
      ],
      "source": [
        "# Muestra el tipo de dato de la variable 'Nros_impares'\n",
        "type(Nros_impares)\n",
        "\n",
        "# El comando print() se usa para mostrar resultados o textos:\n",
        "print(\"¡Hola Mundo!\")"
      ]
    },
    {
      "cell_type": "markdown",
      "metadata": {},
      "source": [
        "## 🧮 Operaciones y Lógica en Python"
      ]
    },
    {
      "cell_type": "markdown",
      "metadata": {},
      "source": [
        "Python soporta las operaciones matemáticas y lógicas que conoces:"
      ]
    },
    {
      "cell_type": "code",
      "execution_count": 52,
      "metadata": {},
      "outputs": [
        {
          "name": "stdout",
          "output_type": "stream",
          "text": [
            "Suma: 7\n",
            "Resta: 3\n",
            "Multiplicación: 54\n",
            "División (Flotante): 1.25\n",
            "Módulo (Resto): 4\n",
            "Potencia: 4096\n"
          ]
        }
      ],
      "source": [
        "# Operaciones Aritméticas Básicas\n",
        "print(f\"Suma: {2+5}\")\n",
        "print(f\"Resta: {5-2}\")\n",
        "print(f\"Multiplicación: {6*9}\")\n",
        "print(f\"División (Flotante): {5/4}\")\n",
        "print(f\"Módulo (Resto): {4 % 7}\")\n",
        "print(f\"Potencia: {4 ** 6}\")"
      ]
    },
    {
      "cell_type": "code",
      "execution_count": 1,
      "metadata": {},
      "outputs": [
        {
          "name": "stdout",
          "output_type": "stream",
          "text": [
            "Raíz de 100: 10.0\n",
            "Es de tipo: <class 'float'>\n"
          ]
        }
      ],
      "source": [
        "# Usando la función de raíz cuadrada (sqrt) del módulo 'math'\n",
        "from math import sqrt\n",
        "raiz_int = sqrt(100)\n",
        "print(f\"Raíz de 100: {raiz_int}\")\n",
        "print(\"Es de tipo:\", type(raiz_int))"
      ]
    },
    {
      "cell_type": "code",
      "execution_count": 58,
      "metadata": {},
      "outputs": [
        {
          "name": "stdout",
          "output_type": "stream",
          "text": [
            "Igualdad: True\n",
            "Mayor que: True\n",
            "Menor que: False\n"
          ]
        }
      ],
      "source": [
        "# Operadores de Comparación (dan un resultado Booleano: True o False)\n",
        "print(f\"Igualdad: {5 == 5}\")\n",
        "print(f\"Mayor que: {5 > 4}\")\n",
        "print(f\"Menor que: {4 < 1}\")"
      ]
    },
    {
      "cell_type": "code",
      "execution_count": 61,
      "metadata": {},
      "outputs": [
        {
          "name": "stdout",
          "output_type": "stream",
          "text": [
            "AND: True\n",
            "OR: True\n",
            "NOT: False\n"
          ]
        }
      ],
      "source": [
        "# Operadores Lógicos (combinan resultados booleanos)\n",
        "# AND: Verdadero SÓLO si ambas condiciones son True.\n",
        "print(f\"AND: {(5 > 3) and (2 < 4)}\")\n",
        "# OR: Verdadero si AL MENOS una condición es True.\n",
        "print(f\"OR: {(5 > 3) or (2 > 4)}\")\n",
        "# NOT: Invierte el valor (True se vuelve False y viceversa).\n",
        "print(f\"NOT: {not (5 > 3)}\")"
      ]
    },
    {
      "cell_type": "code",
      "execution_count": 3,
      "metadata": {},
      "outputs": [
        {
          "data": {
            "text/plain": [
              "False"
            ]
          },
          "execution_count": 3,
          "metadata": {},
          "output_type": "execute_result"
        }
      ],
      "source": [
        "# Ejemplo: ¿Puede el estudiante buscar prácticas?\n",
        "promedio = 4.0\n",
        "semestre = 5\n",
        "\n",
        "# Se requiere (promedio >= 4.0) Y (semestre > 5)\n",
        "Buscar_prac = (promedio >= 4.0) and (semestre > 5)\n",
        "Buscar_prac"
      ]
    },
    {
      "cell_type": "markdown",
      "metadata": {},
      "source": [
        "## 🏗️ Tipos de Datos y Estructuras Fundamentales"
      ]
    },
    {
      "cell_type": "markdown",
      "metadata": {},
      "source": [
        "Aquí exploramos los tipos de datos atómicos y las estructuras de colección más comunes en Python:"
      ]
    },
    {
      "cell_type": "code",
      "execution_count": 30,
      "metadata": {},
      "outputs": [
        {
          "name": "stdout",
          "output_type": "stream",
          "text": [
            "Entero: 10\n",
            "Tipo de dato: <class 'int'>\n"
          ]
        }
      ],
      "source": [
        "# Enteros (int): Números sin decimales (positivos o negativos).\n",
        "entero = 10\n",
        "print(\"Entero:\", entero)\n",
        "print(\"Tipo de dato:\", type(entero))"
      ]
    },
    {
      "cell_type": "code",
      "execution_count": 32,
      "metadata": {},
      "outputs": [
        {
          "name": "stdout",
          "output_type": "stream",
          "text": [
            "Flotante: 3.98\n",
            "Tipo de dato: <class 'float'>\n"
          ]
        }
      ],
      "source": [
        "# Flotantes (float): Números con decimales.\n",
        "flotante = 3.98\n",
        "print(\"Flotante:\", flotante)\n",
        "print(\"Tipo de dato:\", type(flotante))"
      ]
    },
    {
      "cell_type": "code",
      "execution_count": 34,
      "metadata": {},
      "outputs": [
        {
          "name": "stdout",
          "output_type": "stream",
          "text": [
            "Cadena: Buenos días\n",
            "Tipo de dato: <class 'str'>\n"
          ]
        }
      ],
      "source": [
        "# Cadenas (str): Texto. Se definen con comillas simples ('') o dobles (\"\").\n",
        "Cadena = \"Buenos días\"\n",
        "print(\"Cadena:\", Cadena)\n",
        "print(\"Tipo de dato:\", type(Cadena))"
      ]
    },
    {
      "cell_type": "code",
      "execution_count": 36,
      "metadata": {},
      "outputs": [
        {
          "name": "stdout",
          "output_type": "stream",
          "text": [
            "Booleano: True\n",
            "Tipo de dato: <class 'bool'>\n"
          ]
        }
      ],
      "source": [
        "# Booleanos (bool): Valores lógicos que solo pueden ser True (verdadero) o False (falso).\n",
        "booleano = True\n",
        "print(\"Booleano:\", booleano)\n",
        "print(\"Tipo de dato:\", type(booleano))"
      ]
    },
    {
      "cell_type": "markdown",
      "metadata": {},
      "source": [
        "### Listas (`list`)\n",
        "Las listas son colecciones de elementos **ordenadas** y **modificables** (mutables). Se definen con corchetes `[]`."
      ]
    },
    {
      "cell_type": "code",
      "execution_count": 37,
      "metadata": {},
      "outputs": [
        {
          "name": "stdout",
          "output_type": "stream",
          "text": [
            "[1, 2, 3]\n"
          ]
        },
        {
          "data": {
            "text/plain": [
              "list"
            ]
          },
          "execution_count": 37,
          "metadata": {},
          "output_type": "execute_result"
        }
      ],
      "source": [
        "mi_lista = [1, 2, 3]\n",
        "print(mi_lista)\n",
        "type(mi_lista)"
      ]
    },
    {
      "cell_type": "code",
      "execution_count": 40,
      "metadata": {},
      "outputs": [
        {
          "name": "stdout",
          "output_type": "stream",
          "text": [
            "Primer elemento: 1\n",
            "Último elemento: 11\n"
          ]
        }
      ],
      "source": [
        "Lista = [1, 2, 3]\n",
        "Lista.append(11) # Agrega el número 11 al final de la lista\n",
        "\n",
        "# Acceder a elementos: Las posiciones (índices) empiezan en 0.\n",
        "print(f\"Primer elemento: {Lista[0]}\")\n",
        "# El índice -1 accede al último elemento.\n",
        "print(f\"Último elemento: {Lista[-1]}\")"
      ]
    },
    {
      "cell_type": "code",
      "execution_count": 46,
      "metadata": {},
      "outputs": [
        {
          "name": "stdout",
          "output_type": "stream",
          "text": [
            "Original: [8.9, 3.7, -4.7]\n",
            "Ordenada: [-4.7, 3.7, 8.9]\n"
          ]
        }
      ],
      "source": [
        "# Ordenar elementos de la lista\n",
        "List_2 = [8.9, 3.7, -4.7]\n",
        "print(f\"Original: {List_2}\")\n",
        "List_2.sort() # Ordena la lista de forma ascendente (cambia la lista original)\n",
        "print(f\"Ordenada: {List_2}\")"
      ]
    },
    {
      "cell_type": "markdown",
      "metadata": {},
      "source": [
        "### Tuplas (`tuple`)\n",
        "Las tuplas son colecciones **ordenadas** pero **inmutables** (no se pueden modificar, añadir ni eliminar elementos después de su creación). Se definen con paréntesis `()`."
      ]
    },
    {
      "cell_type": "code",
      "execution_count": 46,
      "metadata": {},
      "outputs": [
        {
          "name": "stdout",
          "output_type": "stream",
          "text": [
            "Tupla: (1, 2, 3)\n",
            "Tipo de dato: <class 'tuple'>\n"
          ]
        }
      ],
      "source": [
        "tupla = (1, 2, 3)\n",
        "print(\"Tupla:\", tupla)\n",
        "print(\"Tipo de dato:\", type(tupla))"
      ]
    },
    {
      "cell_type": "code",
      "execution_count": 81,
      "metadata": {},
      "outputs": [
        {
          "data": {
            "text/plain": [
              "('chao', 36, True, 978, 'Mujer', True)"
            ]
          },
          "execution_count": 81,
          "metadata": {},
          "output_type": "execute_result"
        }
      ],
      "source": [
        "tup_1 = (\"chao\", 36, True)\n",
        "tup_2 = (978, \"Mujer\", True)\n",
        "\n",
        "# Se pueden 'sumar' tuplas para crear una nueva tupla con los elementos de ambas.\n",
        "tup_3 = (tup_1 + tup_2)\n",
        "tup_3"
      ]
    },
    {
      "cell_type": "markdown",
      "metadata": {},
      "source": [
        "### Diccionarios (`dict`)\n",
        "Los diccionarios son colecciones **desordenadas** de pares **clave:valor**. Cada valor se accede mediante su clave única (como buscar una palabra en el diccionario). Se definen con llaves `{}`."
      ]
    },
    {
      "cell_type": "code",
      "execution_count": 84,
      "metadata": {},
      "outputs": [
        {
          "data": {
            "text/plain": [
              "{'Nombre': 'Santiago', 'Apellido': 'Suarez', 'Edad': '23', 'Sexo': 'M'}"
            ]
          },
          "execution_count": 84,
          "metadata": {},
          "output_type": "execute_result"
        }
      ],
      "source": [
        "# Un diccionario para almacenar la información de un cliente\n",
        "cliente =  {\n",
        "    \"Nombre\": \"Santiago\", \n",
        "    \"Apellido\": \"Suarez\", \n",
        "    \"Edad\": \"23\", \n",
        "    \"Sexo\": \"M\"\n",
        "}\n",
        "cliente"
      ]
    },
    {
      "cell_type": "markdown",
      "metadata": {},
      "source": [
        "### Conjuntos (`set`)\n",
        "Los conjuntos son colecciones **desordenadas** de elementos **únicos**. Automáticamente eliminan duplicados y se utilizan para operaciones matemáticas como uniones e intersecciones. Se definen con llaves `{}` o con `set()`."
      ]
    },
    {
      "cell_type": "code",
      "execution_count": 87,
      "metadata": {},
      "outputs": [
        {
          "name": "stdout",
          "output_type": "stream",
          "text": [
            "{10, 4, 13, 7}\n"
          ]
        }
      ],
      "source": [
        "# Se crea un set a partir de una tupla con un valor repetido (4)\n",
        "nros

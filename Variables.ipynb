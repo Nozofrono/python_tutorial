{
 "cells": [
  {
   "cell_type": "markdown",
   "metadata": {},
   "source": [
    "# **Tutorial de Python**"
   ]
  },
  {
   "cell_type": "markdown",
   "metadata": {},
   "source": [
    "¿Qué es Python?\n",
    "\n",
    "Es un lenguaje de alto nivel de programación interpretado y de proposito general.\n",
    "Es conocido por la facilidad de usarlo y legible, lo que ayuda al aprendizaje para principiantes \n",
    "y ayuda a mejorar la productividad para desarrolladores experimentados.\n",
    "Se utiliza en diversos campos como analistas de datos, desarrolladores web, IA, entre otros."
   ]
  },
  {
   "cell_type": "markdown",
   "metadata": {},
   "source": [
    "## **Cometarios y tipo de letras en Python**"
   ]
  },
  {
   "cell_type": "markdown",
   "metadata": {},
   "source": [
    "\n",
    "Cometarios\n",
    "   - En python para realizar comentarios o explicaciones sobre algunos codigos, deberas utilizar el signo (#) y luego el comentario o reseña. \n",
    "   - Puedes dejar un espacio o escribir seguido, es tu decisión.\n",
    "\n",
    "Tipos de letras\n",
    "   - Para poner la letra negrita utilizamos el siguente caracter (**asi**), en el gion bajo iria tu texto o palabra\n",
    "   - Para poner la letra cursiva utilizamos el signo (*asi*),en el gion bajo iria tu texto o palabra\n",
    "   - Tambien podemos combinar la letra negrita y cusrsiva con el sigiente caracter (***asi***),en el gion bajo iria tu texto o palabra\n",
    "   - Para poner la letra subrayada utlizamos el siguiente caracter (~~asi~~)"
   ]
  },
  {
   "cell_type": "markdown",
   "metadata": {},
   "source": [
    "\n",
    "Comentarios\n",
    "   - #Asi puede ir tu comentario\n",
    "   - #Asi tambien puede ir\n",
    "\n",
    "\n",
    "Tipos de letras\n",
    "\n",
    "   - **Texto en negrita**\n",
    "   - *Texto en curisva*\n",
    "   - ***Texto en negrita y cursiva***\n",
    "   - ~~Texto subrayado~~"
   ]
  },
  {
   "cell_type": "markdown",
   "metadata": {},
   "source": [
    "## **Tipos de datos y variables**"
   ]
  },
  {
   "cell_type": "markdown",
   "metadata": {},
   "source": [
    "### *Variables*"
   ]
  },
  {
   "cell_type": "markdown",
   "metadata": {},
   "source": [
    "las variables se usan para guardar información, no hay que confirmar el tipo de variables ya que python lo infiere automaticamente.\n",
    "\n",
    "Debes tener en cuenta lo siguiente al nombrar las variables\n",
    "  - No utilizar el nombre de la variable con espacios, en caso de ser necesario utiliza (_)\n",
    "  - No utilizar números, ni caracteres especiales al momento de nombrar la variable\n",
    "  - Usa nombres alusivos al contenido de la variable\n"
   ]
  },
  {
   "cell_type": "code",
   "execution_count": 26,
   "metadata": {},
   "outputs": [
    {
     "data": {
      "text/plain": [
       "(2, 4, 6, 8, 10)"
      ]
     },
     "execution_count": 26,
     "metadata": {},
     "output_type": "execute_result"
    }
   ],
   "source": [
    "# Ejemplo 1 de variable (usando una tupla de números pares)\n",
    "Nros_pares_iniciales = 2, 4, 6, 8, 10\n",
    "Nros_pares_iniciales "
   ]
  },
  {
   "cell_type": "code",
   "execution_count": 27,
   "metadata": {},
   "outputs": [
    {
     "data": {
      "text/plain": [
       "('Manzana', 'Pera', 'Uva')"
      ]
     },
     "execution_count": 27,
     "metadata": {},
     "output_type": "execute_result"
    }
   ],
   "source": [
    "# Ejemplo 2 de variable (usando una tupla de strings)\n",
    "Inventario_Frutas = \"Manzana\", \"Pera\", \"Uva\"\n",
    "Inventario_Frutas"
   ]
  },
  {
   "cell_type": "code",
   "execution_count": 1,
   "metadata": {},
   "outputs": [
    {
     "ename": "TypeError",
     "evalue": "type() takes 1 or 3 arguments",
     "output_type": "error",
     "traceback": [
      "\u001b[1;31m---------------------------------------------------------------------------\u001b[0m",
      "\u001b[1;31mTypeError\u001b[0m                                 Traceback (most recent call last)",
      "Cell \u001b[1;32mIn[1], line 2\u001b[0m\n\u001b[0;32m      1\u001b[0m \u001b[38;5;66;03m# Para mostrar el tipo de dato\u001b[39;00m\n\u001b[1;32m----> 2\u001b[0m \u001b[38;5;28;43mtype\u001b[39;49m\u001b[43m(\u001b[49m\u001b[43m)\u001b[49m\n\u001b[0;32m      4\u001b[0m \u001b[38;5;66;03m# Para mostrar los resultados  de varias operaciones en pantalla\u001b[39;00m\n\u001b[0;32m      5\u001b[0m \u001b[38;5;28mprint\u001b[39m()\n",
      "\u001b[1;31mTypeError\u001b[0m: type() takes 1 or 3 arguments"
     ]
    }
   ],
   "source": [
    "# Para mostrar el tipo de dato\n",
    "type()\n",
    "\n",
    "# Para mostrar los resultados  de varias operaciones en pantalla\n",
    "print()"
   ]
  },
  {
   "cell_type": "markdown",
   "metadata": {},
   "source": [
    "## **Operaciones Matemáticas**"
   ]
  },
  {
   "cell_type": "markdown",
   "metadata": {},
   "source": [
    "En Python puedes realizar una serie de operaciones cuantitativas que serian las siguientes:"
   ]
  },
  {
   "cell_type": "code",
   "execution_count": 52,
   "metadata": {},
   "outputs": [
    {
     "name": "stdout",
     "output_type": "stream",
     "text": [
      "7\n",
      "3\n",
      "54\n",
      "1.25\n",
      "4\n",
      "4096\n"
     ]
    }
   ],
   "source": [
    "# Operaciones Aritméticas\n",
    "suma = 2+5\n",
    "print(suma)\n",
    "resta = 5-2\n",
    "print(resta)\n",
    "multiplicacion = 6*9\n",
    "print(multiplicacion)\n",
    "division = 5/4\n",
    "print(division)\n",
    "modulo = 4 % 7\n",
    "print(modulo)\n",
    "exponente = 4 ** 6\n",
    "print(exponente)\n",
    "\n"
   ]
  },
  {
   "cell_type": "code",
   "execution_count": 1,
   "metadata": {},
   "outputs": [
    {
     "name": "stdout",
     "output_type": "stream",
     "text": [
      "10.0\n",
      "<class 'float'>\n"
     ]
    }
   ],
   "source": [
    "# Para sacar raiz a los enteros\n",
    "from math import sqrt\n",
    "raiz_int = sqrt(100)\n",
    "print(raiz_int)\n",
    "print(type(raiz_int))"
   ]
  },
  {
   "cell_type": "code",
   "execution_count": 58,
   "metadata": {},
   "outputs": [
    {
     "name": "stdout",
     "output_type": "stream",
     "text": [
      "True\n",
      "True\n",
      "False\n"
     ]
    }
   ],
   "source": [
    "# Comparación de valores\n",
    "igual =(5==5)\n",
    "print(igual)\n",
    "mayor_que = (5>4)\n",
    "print(mayor_que)\n",
    "menor_que = (4<1)\n",
    "print(menor_que)"
   ]
  },
  {
   "cell_type": "code",
   "execution_count": 61,
   "metadata": {},
   "outputs": [
    {
     "name": "stdout",
     "output_type": "stream",
     "text": [
      "True\n",
      "True\n",
      "False\n"
     ]
    }
   ],
   "source": [
    "# Operaciones lógicos \n",
    "and_result = (5 > 3) and (2 < 4)\n",
    "print(and_result)\n",
    "or_result = (5 > 3) or (2 > 4)\n",
    "print(or_result)\n",
    "not_result = not (5 > 3)\n",
    "print(not_result)"
   ]
  },
  {
   "cell_type": "code",
   "execution_count": 3,
   "metadata": {},
   "outputs": [
    {
     "data": {
      "text/plain": [
       "False"
      ]
     },
     "execution_count": 3,
     "metadata": {},
     "output_type": "execute_result"
    }
   ],
   "source": [
    "# Operadores: AND, &, OR. |, NOT, ~\n",
    "promedio = 4.0\n",
    "semestre = 5\n",
    "Buscar_prac = (promedio >= 4.0) and (semestre >5)\n",
    "Buscar_prac\n"
   ]
  },
  {
   "cell_type": "markdown",
   "metadata": {},
   "source": [
    "## **Tipos y estructuras de datos básicas**"
   ]
  },
  {
   "cell_type": "code",
   "execution_count": 29,
   "metadata": {},
   "outputs": [
    {
     "name": "stdout",
     "output_type": "stream",
     "text": [
      "10\n"
     ]
    },
    {
     "data": {
      "text/plain": [
       "int"
      ]
     },
     "execution_count": 29,
     "metadata": {},
     "output_type": "execute_result"
    }
   ],
   "source": [
    "#números enteros (int)\n",
    "    # Opción 1\n",
    "entero = 10\n",
    "print(entero) \n",
    "type(entero)\n"
   ]
  },
  {
   "cell_type": "code",
   "execution_count": 30,
   "metadata": {},
   "outputs": [
    {
     "name": "stdout",
     "output_type": "stream",
     "text": [
      "Entero: 10\n",
      "Tipo de dato: <class 'int'>\n"
     ]
    }
   ],
   "source": [
    "#Números enteros (int)\n",
    "    # Opción 2\n",
    "print(\"Entero:\", entero)\n",
    "print(\"Tipo de dato:\", type(entero))\n",
    "# INT representa los números enteros, positivos y negativos"
   ]
  },
  {
   "cell_type": "code",
   "execution_count": 31,
   "metadata": {},
   "outputs": [
    {
     "name": "stdout",
     "output_type": "stream",
     "text": [
      "3.98\n"
     ]
    },
    {
     "data": {
      "text/plain": [
       "float"
      ]
     },
     "execution_count": 31,
     "metadata": {},
     "output_type": "execute_result"
    }
   ],
   "source": [
    "#Flotantes (float), números con decimales\n",
    "    # Opción 1\n",
    "flotante = 3.98\n",
    "print(flotante)\n",
    "type(flotante)\n",
    "# FLOAT representan numeros decimales "
   ]
  },
  {
   "cell_type": "code",
   "execution_count": 32,
   "metadata": {},
   "outputs": [
    {
     "name": "stdout",
     "output_type": "stream",
     "text": [
      "Flotante: 3.98\n",
      "Tipo de dato: <class 'float'>\n"
     ]
    }
   ],
   "source": [
    "#Números flotantes (float)\n",
    "    # Opción 2\n",
    "print(\"Flotante:\", flotante)\n",
    "print(\"Tipo de dato:\", type(flotante))\n",
    "# FLOAT representan numeros decimales "
   ]
  },
  {
   "cell_type": "code",
   "execution_count": 33,
   "metadata": {},
   "outputs": [
    {
     "name": "stdout",
     "output_type": "stream",
     "text": [
      "Buenos días\n"
     ]
    },
    {
     "data": {
      "text/plain": [
       "str"
      ]
     },
     "execution_count": 33,
     "metadata": {},
     "output_type": "execute_result"
    }
   ],
   "source": [
    "#Cadena (str)\n",
    "    # Opción 1\n",
    "Cadena = \"Buenos días\"\n",
    "print(Cadena)\n",
    "type(Cadena)\n",
    "# STR representa texto, se puede escribir con comillas simples ('') o dobles (\"\")"
   ]
  },
  {
   "cell_type": "code",
   "execution_count": 34,
   "metadata": {},
   "outputs": [
    {
     "name": "stdout",
     "output_type": "stream",
     "text": [
      "Cadena: Buenos días\n",
      "Tipo de dato: <class 'str'>\n"
     ]
    }
   ],
   "source": [
    "#Cadena (str)\n",
    "    # Opcion 2\n",
    "print(\"Cadena:\", Cadena)\n",
    "print(\"Tipo de dato:\", type(Cadena))\n",
    "# STR representa texto, se puede escribir con comillas simples ('') o dobles (\"\")"
   ]
  },
  {
   "cell_type": "code",
   "execution_count": 35,
   "metadata": {},
   "outputs": [
    {
     "name": "stdout",
     "output_type": "stream",
     "text": [
      "True\n"
     ]
    },
    {
     "data": {
      "text/plain": [
       "bool"
      ]
     },
     "execution_count": 35,
     "metadata": {},
     "output_type": "execute_result"
    }
   ],
   "source": [
    "#Booleanos (bool)\n",
    "    # Opción 1\n",
    "booleano = True\n",
    "print(booleano)\n",
    "type(booleano)"
   ]
  },
  {
   "cell_type": "code",
   "execution_count": 36,
   "metadata": {},
   "outputs": [
    {
     "name": "stdout",
     "output_type": "stream",
     "text": [
      "Booleano: True\n",
      "Tipo de dato: <class 'bool'>\n"
     ]
    }
   ],
   "source": [
    " # Opcion 2\n",
    "print(\"Booleano:\", booleano)\n",
    "print(\"Tipo de dato:\", type(booleano))\n",
    "# BOOL representan valores logicos: True(verdadero) o False(falso)"
   ]
  },
  {
   "cell_type": "code",
   "execution_count": null,
   "metadata": {},
   "outputs": [
    {
     "name": "stdout",
     "output_type": "stream",
     "text": [
      "True\n",
      "False\n"
     ]
    }
   ],
   "source": [
    "# el NOT se utiliza para invertir la relación, para el codigo\n",
    "condicion = 4 < 6\n",
    "print(condicion)\n",
    "print(not(condicion)) #aqui aunque sea verdadera la condicion, el not lo invierte"
   ]
  },
  {
   "cell_type": "code",
   "execution_count": 37,
   "metadata": {},
   "outputs": [
    {
     "name": "stdout",
     "output_type": "stream",
     "text": [
      "[1, 2, 3]\n"
     ]
    },
    {
     "data": {
      "text/plain": [
       "list"
      ]
     },
     "execution_count": 37,
     "metadata": {},
     "output_type": "execute_result"
    }
   ],
   "source": [
    "#Listas (list)\n",
    "    # Opción 1\n",
    "lista = [1, 2, 3]\n",
    "print(lista)\n",
    "type(lista)\n",
    "# LIST son colecciones ordenadas y modificables de elementos, puede tener diferentes tipos de datos\n",
    "    #Ejemplo: [1, 2, 3] o [\"a\",\"b\",\"c\"]"
   ]
  },
  {
   "cell_type": "code",
   "execution_count": 38,
   "metadata": {},
   "outputs": [
    {
     "name": "stdout",
     "output_type": "stream",
     "text": [
      "Lista: [1, 2, 3]\n",
      "Tipo de dato: <class 'list'>\n"
     ]
    }
   ],
   "source": [
    " # Opcion 2\n",
    "print(\"Lista:\", lista)\n",
    "print(\"Tipo de dato:\", type(lista))\n",
    "# LIST son colecciones ordenadas y modificables de elementos, puede tener diferentes tipos de datos\n",
    "    #Ejemplo: [1, 2, 3] o [\"a\",\"b\",\"c\"]"
   ]
  },
  {
   "cell_type": "markdown",
   "metadata": {},
   "source": [
    "Python ofrece varias estructuras de datos incluidas que permiten almacenar colecciones de datos de diferentes formas.\n",
    "\n",
    "Haremos un ejemplo donde se realizaran diversas estructuras que puede tener el tipo de dato **lista (list)**"
   ]
  },
  {
   "cell_type": "code",
   "execution_count": 39,
   "metadata": {},
   "outputs": [
    {
     "name": "stdout",
     "output_type": "stream",
     "text": [
      "[1, 2, 3, 11]\n"
     ]
    }
   ],
   "source": [
    "List = [1, 2, 3]  \n",
    "List.append(11)    \n",
    "print(List) \n",
    "\n",
    "# El método .append() es una función muy útil en Python que es exclusivamente con listas(list)"
   ]
  },
  {
   "cell_type": "code",
   "execution_count": 40,
   "metadata": {},
   "outputs": [
    {
     "name": "stdout",
     "output_type": "stream",
     "text": [
      "1\n",
      "2\n",
      "3\n",
      "11\n"
     ]
    }
   ],
   "source": [
    "# Para mostrar las posiciones de los elementos de la lista (empieza desde cero(0))\n",
    "print(List[0])\n",
    "print(List[1])\n",
    "print(List[2])\n",
    "print(List[3])\n",
    "\n",
    "# Este codigo sirve para acceder a los elementos de una lista por su posición (indice)"
   ]
  },
  {
   "cell_type": "code",
   "execution_count": 41,
   "metadata": {},
   "outputs": [
    {
     "data": {
      "text/plain": [
       "['nevera', 'lavadora', 'microondas', 1, 2, 3, 11]"
      ]
     },
     "execution_count": 41,
     "metadata": {},
     "output_type": "execute_result"
    }
   ],
   "source": [
    "# Para unir listas haremos lo siguiente\n",
    "List_1 = [\"nevera\", \"lavadora\", \"microondas\"]\n",
    "List_1 + List"
   ]
  },
  {
   "cell_type": "code",
   "execution_count": 42,
   "metadata": {},
   "outputs": [
    {
     "name": "stdout",
     "output_type": "stream",
     "text": [
      "['lavadora', 'microondas']\n"
     ]
    }
   ],
   "source": [
    "List_1.remove(\"nevera\")\n",
    "print(List_1)"
   ]
  },
  {
   "cell_type": "code",
   "execution_count": 43,
   "metadata": {},
   "outputs": [
    {
     "name": "stdout",
     "output_type": "stream",
     "text": [
      "['televisor', 'lavadora', 'microondas']\n"
     ]
    }
   ],
   "source": [
    "# Para incluir elementos en una posición de la lista\n",
    "List_1.insert(0, \"televisor\")\n",
    "print(List_1)"
   ]
  },
  {
   "cell_type": "code",
   "execution_count": 46,
   "metadata": {},
   "outputs": [
    {
     "name": "stdout",
     "output_type": "stream",
     "text": [
      "Forma original: [8.9, 3.7, -4.7]\n",
      "Forma original:[-4.7, 3.7, 8.9]\n"
     ]
    }
   ],
   "source": [
    "# Para ordenar una lista de variables\n",
    "List_2 = [8.9, 3.7, -4.7]\n",
    "print(f\"Forma original: {List_2}\")\n",
    "List_2.sort()\n",
    "print(f\"Forma original:{List_2}\")"
   ]
  },
  {
   "cell_type": "code",
   "execution_count": 47,
   "metadata": {},
   "outputs": [
    {
     "name": "stdout",
     "output_type": "stream",
     "text": [
      "Forma original: 1.036.449.040\n",
      "Forma natural:1036449040\n"
     ]
    }
   ],
   "source": [
    "# Paraordenar en datos el número de identificacion de una persona \n",
    "nros_cc = \"1.036.449.040\"\n",
    "print(f\"Forma original: {nros_cc}\")\n",
    "nros_cc_puro = nros_cc.replace(\".\",\"\").strip()\n",
    "print(f\"Forma natural:{nros_cc_puro}\")"
   ]
  },
  {
   "cell_type": "markdown",
   "metadata": {},
   "source": [
    "Haremos un ejemplo donde se realizaran diversas estructuras que puede tener el tipo de dato **Tuplas (tuple)**"
   ]
  },
  {
   "cell_type": "code",
   "execution_count": null,
   "metadata": {},
   "outputs": [
    {
     "name": "stdout",
     "output_type": "stream",
     "text": [
      "(1, 2, 3)\n"
     ]
    },
    {
     "data": {
      "text/plain": [
       "tuple"
      ]
     },
     "execution_count": 45,
     "metadata": {},
     "output_type": "execute_result"
    }
   ],
   "source": [
    "#Tupla (tuple)\n",
    "    # Opción 1\n",
    "tupla = (1,2,3)\n",
    "print(tupla)\n",
    "type(tupla)\n",
    "# TUPLE son condiciones ordenadas pero inmutables (no se pueden modificar después de creadas)"
   ]
  },
  {
   "cell_type": "code",
   "execution_count": 46,
   "metadata": {},
   "outputs": [
    {
     "name": "stdout",
     "output_type": "stream",
     "text": [
      "Tupla: (1, 2, 3)\n",
      "Tipo de dato: <class 'tuple'>\n"
     ]
    }
   ],
   "source": [
    "# Opcion 2\n",
    "print(\"Tupla:\", tupla)\n",
    "print(\"Tipo de dato:\", type(tupla))\n",
    "# TUPLE son condiciones ordenadas pero inmutables (no se pueden modificar después de creadas)"
   ]
  },
  {
   "cell_type": "code",
   "execution_count": 78,
   "metadata": {},
   "outputs": [
    {
     "data": {
      "text/plain": [
       "('chao', 36, True)"
      ]
     },
     "execution_count": 78,
     "metadata": {},
     "output_type": "execute_result"
    }
   ],
   "source": [
    "tup_1 = (\"chao\", 36, True)\n",
    "tup_1"
   ]
  },
  {
   "cell_type": "code",
   "execution_count": 79,
   "metadata": {},
   "outputs": [
    {
     "name": "stdout",
     "output_type": "stream",
     "text": [
      "chao\n",
      "True\n",
      "36\n"
     ]
    }
   ],
   "source": [
    "# Para mostrar las posiciones de los elementos de una tupla (Empiezan desde 0)\n",
    "\n",
    "print(tup_1[0])\n",
    "print(tup_1[2])\n",
    "print(tup_1[1])"
   ]
  },
  {
   "cell_type": "code",
   "execution_count": 80,
   "metadata": {},
   "outputs": [
    {
     "data": {
      "text/plain": [
       "(978, 'Mujer', True)"
      ]
     },
     "execution_count": 80,
     "metadata": {},
     "output_type": "execute_result"
    }
   ],
   "source": [
    "tup_2 = (978, \"Mujer\", True)\n",
    "tup_2"
   ]
  },
  {
   "cell_type": "code",
   "execution_count": 81,
   "metadata": {},
   "outputs": [
    {
     "data": {
      "text/plain": [
       "('chao', 36, True, 978, 'Mujer', True)"
      ]
     },
     "execution_count": 81,
     "metadata": {},
     "output_type": "execute_result"
    }
   ],
   "source": [
    "tup_3 = (tup_1 + tup_2)\n",
    "tup_3"
   ]
  },
  {
   "cell_type": "code",
   "execution_count": 83,
   "metadata": {},
   "outputs": [
    {
     "data": {
      "text/plain": [
       "1"
      ]
     },
     "execution_count": 83,
     "metadata": {},
     "output_type": "execute_result"
    }
   ],
   "source": [
    "# Es un método para contar el número de elementos repetidos en la tupla\n",
    "\n",
    "tup_4 = (1, 8, 9, 3, 4, 2)\n",
    "tup_4.count(2)"
   ]
  },
  {
   "cell_type": "markdown",
   "metadata": {},
   "source": [
    "Haremos un ejemplo donde se realizaran diversas estructuras que puede tener el tipo de dato **Diccionarios (dic)**"
   ]
  },
  {
   "cell_type": "code",
   "execution_count": null,
   "metadata": {},
   "outputs": [
    {
     "name": "stdout",
     "output_type": "stream",
     "text": [
      "{'nombre': 'Juan', 'edad': 25}\n"
     ]
    },
    {
     "data": {
      "text/plain": [
       "dict"
      ]
     },
     "execution_count": 47,
     "metadata": {},
     "output_type": "execute_result"
    }
   ],
   "source": [
    "#Diccionario (dict)\n",
    "diccionario = {\"nombre\": \"Juan\", \"edad\": 25}\n",
    "print(diccionario)\n",
    "type(diccionario)\n",
    "# Son colecciones de pares clave-valor. Cada valor se accede mediante una clave única"
   ]
  },
  {
   "cell_type": "code",
   "execution_count": null,
   "metadata": {},
   "outputs": [
    {
     "name": "stdout",
     "output_type": "stream",
     "text": [
      "Diccionario: {'nombre': 'Juan', 'edad': 25}\n",
      "Tipo de dato: <class 'dict'>\n"
     ]
    }
   ],
   "source": [
    "# Opcion 2\n",
    "print(\"Diccionario:\", diccionario)\n",
    "print(\"Tipo de dato:\", type(diccionario))\n",
    "# Son colecciones de pares clave-valor. Cada valor se accede mediante una clave única"
   ]
  },
  {
   "cell_type": "code",
   "execution_count": 84,
   "metadata": {},
   "outputs": [
    {
     "data": {
      "text/plain": [
       "{'Nombre': 'Santiago', 'Apellido': 'Suarez', 'Edad': '23', 'Sexo': 'M'}"
      ]
     },
     "execution_count": 84,
     "metadata": {},
     "output_type": "execute_result"
    }
   ],
   "source": [
    "# Almacenan pares de clave-valor\n",
    "cliente =  {\n",
    "    \"Nombre\": \"Santiago\", \n",
    "    \"Apellido\": \"Suarez\", \n",
    "    \"Edad\": \"23\", \n",
    "    \"Sexo\": \"M\"}\n",
    "cliente"
   ]
  },
  {
   "cell_type": "code",
   "execution_count": 86,
   "metadata": {},
   "outputs": [
    {
     "data": {
      "text/plain": [
       "{'Nombre': 'Azul', 'Apellido': 'Mora', 'Edad': '18', 'Sexo': 'M'}"
      ]
     },
     "execution_count": 86,
     "metadata": {},
     "output_type": "execute_result"
    }
   ],
   "source": [
    "# Ejemplo:\n",
    "cliente_2 = {\n",
    "    \"Nombre\": \"Azul\",\n",
    "    \"Apellido\": \"Mora\",\n",
    "    \"Edad\": \"18\",\n",
    "    \"Sexo\": \"M\"\n",
    "}\n",
    "cliente_2"
   ]
  },
  {
   "cell_type": "markdown",
   "metadata": {},
   "source": [
    "### ***Ejemplo codigos explicados***"
   ]
  },
  {
   "cell_type": "code",
   "execution_count": 24,
   "metadata": {},
   "outputs": [],
   "source": [
    "Nro = (1,2,3,4,5,6,7,8,9,10,11,12,13,14,15,16,17,18,19,20)"
   ]
  },
  {
   "cell_type": "code",
   "execution_count": 27,
   "metadata": {},
   "outputs": [
    {
     "data": {
      "text/plain": [
       "tuple"
      ]
     },
     "execution_count": 27,
     "metadata": {},
     "output_type": "execute_result"
    }
   ],
   "source": [
    "# Miremos el numero de datos que tiene la variable Nro\n",
    "type(Nro)\n",
    "# Tuple es colecion de datos ordenada "
   ]
  },
  {
   "cell_type": "code",
   "execution_count": 49,
   "metadata": {},
   "outputs": [
    {
     "name": "stdout",
     "output_type": "stream",
     "text": [
      "Numeros: (1, 2, 3, 4, 5, 6, 7, 8, 9, 10, 11, 12, 13, 14, 15, 16, 17, 18, 19, 20)\n",
      "Tipo de dato: <class 'tuple'>\n"
     ]
    }
   ],
   "source": [
    "print(\"Numeros:\", Nro)\n",
    "print(\"Tipo de dato:\", type(Nro))"
   ]
  },
  {
   "cell_type": "code",
   "execution_count": 26,
   "metadata": {},
   "outputs": [
    {
     "name": "stdout",
     "output_type": "stream",
     "text": [
      "1\n",
      "20\n"
     ]
    }
   ],
   "source": [
    "Nro = (1,2,3,4,5,6,7,8,9,10,11,12,13,14,15,16,17,18,19,20)\n",
    "#Acceder al primer número\n",
    "print(Nro[0])\n",
    "#Acceder al último número\n",
    "print(Nro[-1]) #Salida: 20\n"
   ]
  },
  {
   "cell_type": "code",
   "execution_count": null,
   "metadata": {},
   "outputs": [
    {
     "name": "stdout",
     "output_type": "stream",
     "text": [
      "{2, 4, 6, 8, 10, 12, 14, 16, 18, 20}\n"
     ]
    }
   ],
   "source": [
    "pares = {num for num in Nro if num % 2 == 0} # Este codigo crea una lista con los numeros pares de la variable Nro\n",
    "print(pares)"
   ]
  },
  {
   "cell_type": "code",
   "execution_count": 30,
   "metadata": {},
   "outputs": [
    {
     "name": "stdout",
     "output_type": "stream",
     "text": [
      "{1, 3, 5, 7, 9, 11, 13, 15, 17, 19}\n"
     ]
    }
   ],
   "source": [
    "impares = {num for num in Nro if num % 2 != 0}\n",
    "print(impares)"
   ]
  },
  {
   "cell_type": "markdown",
   "metadata": {},
   "source": [
    "### ***Sets***"
   ]
  },
  {
   "cell_type": "markdown",
   "metadata": {},
   "source": [
    "* Colecciones desordenadas de elementos únicos.\n",
    "* No permite elementos duplicados.\n",
    "* Se pueden agregar o eliminar elementos."
   ]
  },
  {
   "cell_type": "code",
   "execution_count": 87,
   "metadata": {},
   "outputs": [
    {
     "name": "stdout",
     "output_type": "stream",
     "text": [
      "{10, 4, 13, 7}\n"
     ]
    }
   ],
   "source": [
    "# Son colecciones desordenadas que no permiten que hayan elementos repetidos\n",
    "\n",
    "nros = (4, 7, 10, 13, 4)\n",
    "set_1 = set(nros)\n",
    "print(set_1)"
   ]
  },
  {
   "cell_type": "code",
   "execution_count": 88,
   "metadata": {},
   "outputs": [
    {
     "name": "stdout",
     "output_type": "stream",
     "text": [
      "{0, 1, 2, 5, -3}\n"
     ]
    }
   ],
   "source": [
    "nros_2 = [1, 0, -3, 2, 5]\n",
    "set_2 = set(nros_2)\n",
    "print(set_2)"
   ]
  },
  {
   "cell_type": "code",
   "execution_count": 89,
   "metadata": {},
   "outputs": [
    {
     "name": "stdout",
     "output_type": "stream",
     "text": [
      "set()\n",
      "{0, 1, 2, 4, 5, 7, 10, 13, -3}\n",
      "{10, 4, 13, 7}\n"
     ]
    }
   ],
   "source": [
    "# Algunas operaciones entre conjuntos\n",
    "\n",
    "print(set_2.intersection(set_1))\n",
    "print(set_1.union(set_2))\n",
    "print(set_1.difference(set_2))"
   ]
  },
  {
   "cell_type": "code",
   "execution_count": 1,
   "metadata": {},
   "outputs": [
    {
     "data": {
      "text/plain": [
       "{-3, 0, 1, 2}"
      ]
     },
     "execution_count": 1,
     "metadata": {},
     "output_type": "execute_result"
    }
   ],
   "source": [
    "# Podemos craer conjuntos de diferentes tipos de variables.\n",
    "conjunto_1 = set([\"f\", \"x\", \"s\"])\n",
    "conjunto_1\n",
    "\n",
    "conjunto_2 = set([0, -200, 200])\n",
    "conjunto_2\n",
    "\n",
    "# Los conjuntos no permiten que se repita un elemento:\n",
    "lista = [1, 0, -3, 0, 2, 1] # Creamos una lista\n",
    "conjunto_3 = set(lista)  # La convertimos en conjunto\n",
    "conjunto_3 # Aquí vemos que no se repiten los valores de la lista."
   ]
  },
  {
   "cell_type": "markdown",
   "metadata": {},
   "source": [
    "## **Conversión de tipos de datos**"
   ]
  },
  {
   "cell_type": "code",
   "execution_count": 1,
   "metadata": {},
   "outputs": [
    {
     "name": "stdout",
     "output_type": "stream",
     "text": [
      "20.0 <class 'float'>\n"
     ]
    }
   ],
   "source": [
    "# Para convertir un entero a float\n",
    "\n",
    "entero_1 = \"20\"\n",
    "float_1 = float(entero_1)\n",
    "print(float_1, type(float_1))"
   ]
  },
  {
   "cell_type": "code",
   "execution_count": 3,
   "metadata": {},
   "outputs": [
    {
     "name": "stdout",
     "output_type": "stream",
     "text": [
      "36 <class 'int'>\n"
     ]
    }
   ],
   "source": [
    "# Para convertir un string a entero (Cuidado: solo en casos donde el str sea un número)\n",
    "\n",
    "str_1 = \"36\"\n",
    "entero_2 = int(str_1)\n",
    "print(entero_2, type(entero_2))"
   ]
  },
  {
   "cell_type": "code",
   "execution_count": 4,
   "metadata": {},
   "outputs": [
    {
     "name": "stdout",
     "output_type": "stream",
     "text": [
      "17.547 <class 'str'>\n"
     ]
    }
   ],
   "source": [
    "# Para convertir un float a string\n",
    "\n",
    "float_2 = 17.547\n",
    "str_2 = str(float_2)\n",
    "print(str_2, type(str_2))"
   ]
  },
  {
   "cell_type": "markdown",
   "metadata": {},
   "source": [
    "- En Python puedes usar f-strings para incluir variables en una cadena de texto:"
   ]
  },
  {
   "cell_type": "code",
   "execution_count": 2,
   "metadata": {},
   "outputs": [
    {
     "name": "stdout",
     "output_type": "stream",
     "text": [
      "Mi nombre es David, tengo 30 años y estoy aprendiendo Python.\n"
     ]
    }
   ],
   "source": [
    "# Primero definimos las variables:\n",
    "identificador = \"David\"\n",
    "antiguedad = 30\n",
    "tema_estudio = \"Python\"\n",
    "\n",
    "# Usamos el F-strings para cambiar la cadena:\n",
    "frase_nueva = f\"Mi nombre es {identificador}, tengo {antiguedad} años y estoy aprendiendo {tema_estudio}.\"\n",
    "\n",
    "# Usamos print() para ver el mensaje en la consola:\n",
    "print(frase_nueva)"
   ]
  },
  {
   "cell_type": "code",
   "execution_count": null,
   "metadata": {},
   "outputs": [
    {
     "name": "stdout",
     "output_type": "stream",
     "text": [
      "10 20 30\n"
     ]
    }
   ],
   "source": [
    "# Otros ejemplos con variables en Python:\n",
    "\n",
    "# Puedes asignar valores a varias variables en una sola línea:\n",
    "x_var, y_var, z_var = 10, 20, 30\n",
    "print(x_var, y_var, z_var)\n",
    " "
   ]
  },
  {
   "cell_type": "markdown",
   "metadata": {},
   "source": [
    "## **Lógica y Control de Flujo (Condicionales y Ciclos)**"
   ]
  },
  {
   "cell_type": "markdown",
   "metadata": {},
   "source": [
    "El control de flujo es esencial para determinar qué código se ejecuta en base a ciertas condiciones o para repetir bloques de código de forma automática. "
   ]
  },
  {
   "cell_type": "markdown",
   "metadata": {},
   "source": [
    "### *Toma de Decisiones: Sentencias Condicionales*"
   ]
  },
  {
   "cell_type": "markdown",
   "metadata": {},
   "source": [
    "Utilizamos `if`, `elif` y `else` para ejecutar bloques de código distintos dependiendo de si las expresiones lógicas son verdaderas (`True`) o falsas (`False`)."
   ]
  },
  {
   "cell_type": "code",
   "execution_count": null,
   "metadata": {},
   "outputs": [],
   "source": [
    "# 1. Usando 'if' simple (si se cumple, se ejecuta)\n",
    "costo_total_pedido = 1200\n",
    "if costo_total_pedido > 1000:\n",
    "    print(\"Obtuvo un 15% de descuento.\")"
   ]
  },
  {
   "cell_type": "code",
   "execution_count": null,
   "metadata": {},
   "outputs": [],
   "source": [
    "# 2. Usando 'if' y 'else' (dos opciones excluyentes)\n",
    "estado_sistema = False # Representa que el sistema está inactivo\n",
    "\n",
    "if estado_sistema == True:\n",
    "    print(\"Sistema operativo: funcionando con normalidad.\")\n",
    "else:\n",
    "    print(\"Error: El sistema se encuentra detenido.\")"
   ]
  },
  {
   "cell_type": "code",
   "execution_count": null,
   "metadata": {},
   "outputs": [],
   "source": [
    "# 3. Usando 'if', 'elif' y 'else' (múltiples condiciones)\n",
    "velocidad_actual = 75\n",
    "\n",
    "if velocidad_actual > 100:\n",
    "    print(\"Advertencia: Exceso de velocidad grave.\")\n",
    "elif velocidad_actual > 60:\n",
    "    print(\"Velocidad moderada: mantenga la precaución.\")\n",
    "elif velocidad_actual > 0:\n",
    "    print(\"Velocidad baja: puede acelerar.\")\n",
    "else:\n",
    "    print(\"Vehículo detenido.\")"
   ]
  },
  {
   "cell_type": "markdown",
   "metadata": {},
   "source": [
    "### *Repetición de Tareas: Bucles (Ciclos)*"
   ]
  },
  {
   "cell_type": "markdown",
   "metadata": {},
   "source": [
    "Los bucles nos permiten ejecutar un mismo bloque de código múltiples veces sin reescribirlo."
   ]
  },
  {
   "cell_type": "markdown",
   "metadata": {},
   "source": [
    "**Ciclo For:** Itera sobre elementos de una colección (como listas, tuplas o diccionarios) o un rango predefinido."
   ]
  },
  {
   "cell_type": "code",
   "execution_count": null,
   "metadata": {},
   "outputs": [],
   "source": [
    "# Recorriendo una tupla de planetas\n",
    "lista_planetas = (\"Mercurio\", \"Venus\", \"Tierra\", \"Marte\")\n",
    "for planeta_nombre in lista_planetas:\n",
    "    print(f\"Visitando el planeta: {planeta_nombre}\")\n",
    "\n",
    "# Imprimiendo el triple de los números del 1 al 4\n",
    "print(\"\\nCálculo de triples:\")\n",
    "for numero_multiplicar in range(1, 5):\n",
    "    print(f\"3 x {numero_multiplicar} = {numero_multiplicar * 3}\")"
   ]
  },
  {
   "cell_type": "markdown",
   "metadata": {},
   "source": [
    "**Ciclo While:** Repite instrucciones mientras una condición sea verdadera. Se debe incluir un mecanismo para que la condición cambie y el ciclo termine."
   ]
  },
  {
   "cell_type": "code",
   "execution_count": null,
   "metadata": {},
   "outputs": [],
   "source": [
    "# Simulación de extracción de capital de un cajero\n",
    "monto_actual = 1000\n",
    "\n",
    "while monto_actual > 700:\n",
    "    print(f\"Extrayendo 100. Quedan: {monto_actual}\")\n",
    "    monto_actual -= 100 # Reducimos el monto en cada ciclo\n",
    "\n",
    "print(\"Límite de extracción alcanzado. Monto final: 700\")"
   ]
  },
  {
   "cell_type": "markdown",
   "metadata": {},
   "source": [
    "### *Control de Interrupción (break y continue)*"
   ]
  },
  {
   "cell_type": "markdown",
   "metadata": {},
   "source": [
    "Estas palabras clave ofrecen control fino sobre el flujo interno de los bucles:\n",
    "\n",
    "*   **`break`**: Detiene completamente el bucle actual.\n",
    "*   **`continue`**: Salta el resto del código de la iteración actual y pasa directamente a la siguiente iteración."
   ]
  },
  {
   "cell_type": "code",
   "execution_count": null,
   "metadata": {},
   "outputs": [],
   "source": [
    "# Usando 'break' para finalizar la lectura de un archivo simulado\n",
    "lineas_archivo = [\"Inicio\", \"Dato1\", \"Dato2\", \"FIN_LECTURA\", \"Dato3\", \"Dato4\"]\n",
    "\n",
    "for linea_procesada in lineas_archivo:\n",
    "    if linea_procesada == \"FIN_LECTURA\":\n",
    "        print(\"\\nSe encontró el marcador de fin. Deteniendo procesamiento.\")\n",
    "        break\n",
    "    print(f\"Contenido leído: {linea_procesada}\")"
   ]
  },
  {
   "cell_type": "code",
   "execution_count": null,
   "metadata": {},
   "outputs": [],
   "source": [
    "# Usando 'continue' para saltar números divisibles por 5\n",
    "secuencia_numerica = [1, 5, 12, 15, 21, 25, 30]\n",
    "\n",
    "for num_prueba in secuencia_numerica:\n",
    "    if num_prueba % 5 == 0:  # Si el número es divisible por 5\n",
    "        continue  # Pasamos al siguiente sin imprimirlo\n",
    "    print(f\"Número no divisible por 5: {num_prueba}\")"
   ]
  }
 ],
 "metadata": {
  "kernelspec": {
   "display_name": "Python 3",
   "language": "python",
   "name": "python3"
  },
  "language_info": {
   "codemirror_mode": {
    "name": "ipython",
    "version": 3
   },
   "file_extension": ".py",
   "mimetype": "text/x-python",
   "name": "python",
   "nbconvert_exporter": "python",
   "pygments_lexer": "ipython3",
   "version": "3.13.1"
  }
 },
 "nbformat": 4,
 "nbformat_minor": 2
}

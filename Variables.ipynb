{
  "cells": [
    {
      "cell_type": "markdown",
      "metadata": {},
      "source": [
        "# **Tutorial Completo de Python: Desde Cero con Ejercicios Prácticos**"
      ]
    },
    {
      "cell_type": "markdown",
      "metadata": {},
      "source": [
        "## ¿Qué es Python?\n",
        "\n",
        "- **Lenguaje de programación de alto nivel**, interpretado y de propósito general.\n",
        "- **Sintaxis clara y legible**, ideal para principiantes y expertos.\n",
        "- **Tipado dinámico**: no necesitas declarar el tipo de variable.\n",
        "- **Multiplataforma**: funciona en Windows, macOS, Linux.\n",
        "- **Ampliamente usado** en:\n",
        "  - Automatización de tareas\n",
        "  - Ciencia de datos y análisis\n",
        "  - Inteligencia artificial y machine learning\n",
        "  - Desarrollo web (Django, Flask)\n",
        "  - Scripting y prototipado rápido"
      ]
    },
    {
      "cell_type": "markdown",
      "metadata": {},
      "source": [
        "## 📝 Comentarios y Formato de Texto (Markdown en Notebooks)"
      ]
    },
    {
      "cell_type": "markdown",
      "metadata": {},
      "source": [
        "### Comentarios en Código Python\n",
        "- Usan el símbolo `#`.\n",
        "- Todo lo que sigue a `#` en una línea **se ignora al ejecutar**.\n",
        "\n",
        "```python\n",
        "# Este es un comentario explicativo\n",
        "edad = 25  # Asignación de variable\n",
        "```\n",
        "\n",
        "### Formato de Texto en Markdown (para celdas de texto)\n",
        "- **Negrita**: `**texto**` → **texto**\n",
        "- *Cursiva*: `*texto*` → *texto*\n",
        "- ***Negrita + Cursiva***: `***texto***` → ***texto***\n",
        "- ~~Tachado~~: `~~texto~~` → ~~texto~~\n",
        "- `Código en línea`: envuelto en acentos graves → `print()`"
      ]
    },
    {
      "cell_type": "markdown",
      "metadata": {},
      "source": [
        "## 📦 Variables y Asignación"
      ]
    },
    {
      "cell_type": "markdown",
      "metadata": {},
      "source": [
        "Una **variable** es un nombre que hace referencia a un valor en memoria.\n",
        "\n",
        "**Reglas para nombres de variables:**\n",
        "- Deben empezar con letra o `_` (no con número ni símbolos como `$`, `@`).\n",
        "- Solo pueden contener letras, números y `_`.\n",
        "- Son **sensibles a mayúsculas**: `edad ≠ Edad`.\n",
        "- Usa **snake_case** para nombres compuestos: `nombre_completo`.\n",
        "\n",
        "**Convención para constantes**: `NOMBRE_EN_MAYÚSCULAS` (ej. `PI = 3.1416`)."
      ]
    },
    {
      "cell_type": "code",
      "execution_count": null,
      "metadata": {},
      "outputs": [],
      "source": [
        "# Ejemplos de asignación\n",
        "nombre = \"Ana\"\n",
        "edad = 30\n",
        "altura = 1.68\n",
        "es_estudiante = False\n",
        "CONSTANTE_PI = 3.14159\n",
        "\n",
        "# Mostrar valores\n",
        "print(nombre, edad, altura, es_estudiante, CONSTANTE_PI)"
      ]
    },
    {
      "cell_type": "code",
      "execution_count": null,
      "metadata": {},
      "outputs": [],
      "source": [
        "# Asignación múltiple\n",
        "a, b, c = 10, 20, 30\n",
        "print(f\"a={a}, b={b}, c={c}\")\n",
        "\n",
        "# Intercambio de valores (sin variable temporal)\n",
        "a, b = b, a\n",
        "print(f\"Después del intercambio: a={a}, b={b}\")"
      ]
    },
    {
      "cell_type": "markdown",
      "metadata": {},
      "source": [
        "## 🔢 Tipos de Datos Primitivos"
      ]
    },
    {
      "cell_type": "code",
      "execution_count": null,
      "metadata": {},
      "outputs": [],
      "source": [
        "# Entero (int)\n",
        "poblacion = 50000\n",
        "print(f\"Población: {poblacion} → {type(poblacion)}\")\n",
        "\n",
        "# Flotante (float)\n",
        "temperatura = -3.5\n",
        "print(f\"Temperatura: {temperatura} → {type(temperatura)}\")\n",
        "\n",
        "# Cadena de texto (str)\n",
        "mensaje = \"¡Hola desde Python!\"\n",
        "print(f\"Mensaje: {mensaje} → {type(mensaje)}\")\n",
        "\n",
        "# Booleano (bool)\n",
        "activo = True\n",
        "print(f\"Activo: {activo} → {type(activo)}\")"
      ]
    },
    {
      "cell_type": "markdown",
      "metadata": {},
      "source": [
        "## ➕ Operadores"
      ]
    },
    {
      "cell_type": "markdown",
      "metadata": {},
      "source": [
        "### Aritméticos"
      ]
    },
    {
      "cell_type": "code",
      "execution_count": null,
      "metadata": {},
      "outputs": [],
      "source": [
        "x, y = 17, 5\n",
        "print(f\"{x} + {y} = {x + y}\")      # Suma\n",
        "print(f\"{x} - {y} = {x - y}\")      # Resta\n",
        "print(f\"{x} * {y} = {x * y}\")      # Multiplicación\n",
        "print(f\"{x} / {y} = {x / y}\")      # División flotante\n",
        "print(f\"{x} // {y} = {x // y}\")    # División entera\n",
        "print(f\"{x} % {y} = {x % y}\")      # Módulo (resto)\n",
        "print(f\"{x} ** {y} = {x ** y}\")    # Potencia"
      ]
    },
    {
      "cell_type": "markdown",
      "metadata": {},
      "source": [
        "### Comparación y Lógicos"
      ]
    },
    {
      "cell_type": "code",
      "execution_count": null,
      "metadata": {},
      "outputs": [],
      "source": [
        "a, b = 10, 20\n",
        "print(f\"a == b → {a == b}\")   # Igualdad\n",
        "print(f\"a != b → {a != b}\")   # Diferente\n",
        "print(f\"a < b → {a < b}\")     # Menor que\n",
        "print(f\"a >= b → {a >= b}\")   # Mayor o igual\n",
        "\n",
        "# Operadores lógicos\n",
        "print(f\"(a < b) and (b > 15) → {(a < b) and (b > 15)}\")\n",
        "print(f\"(a > b) or (b == 20) → {(a > b) or (b == 20)}\")\n",
        "print(f\"not (a == 10) → {not (a == 10)}\")"
      ]
    },
    {
      "cell_type": "markdown",
      "metadata": {},
      "source": [
        "## 📚 Estructuras de Datos"
      ]
    },
    {
      "cell_type": "markdown",
      "metadata": {},
      "source": [
        "### 1. Listas (`list`) – **Ordenadas y mutables**"
      ]
    },
    {
      "cell_type": "code",
      "execution_count": null,
      "metadata": {},
      "outputs": [],
      "source": [
        "frutas = [\"manzana\", \"banana\", \"naranja\"]\n",
        "print(\"Lista original:\", frutas)\n",
        "\n",
        "# Métodos útiles\n",
        "frutas.append(\"mango\")          # Añadir al final\n",
        "frutas.insert(1, \"pera\")       # Insertar en posición\n",
        "frutas.remove(\"banana\")         # Eliminar por valor\n",
        "ultima = frutas.pop()           # Eliminar y devolver último\n",
        "frutas.sort()                   # Ordenar alfabéticamente\n",
        "\n",
        "print(\"Lista modificada:\", frutas)\n",
        "print(\"Último eliminado:\", ultima)\n",
        "print(\"Longitud:\", len(frutas))\n",
        "print(\"¿'manzana' en lista?\", \"manzana\" in frutas)"
      ]
    },
    {
      "cell_type": "markdown",
      "metadata": {},
      "source": [
        "### 2. Tuplas (`tuple`) – **Ordenadas e inmutables**"
      ]
    },
    {
      "cell_type": "code",
      "execution_count": null,
      "metadata": {},
      "outputs": [],
      "source": [
        "coordenadas = (10, 20)\n",
        "persona = (\"Carlos\", 28, \"Ingeniero\")\n",
        "\n",
        "print(\"Coordenadas:\", coordenadas)\n",
        "print(\"Nombre:\", persona[0])\n",
        "print(\"Edad:\", persona[1])\n",
        "\n",
        "# Desempaquetado\n",
        "nombre, edad, profesion = persona\n",
        "print(f\"{nombre} tiene {edad} años y es {profesion}\")\n",
        "\n",
        "# Contar y buscar\n",
        "numeros = (1, 2, 3, 2, 4, 2)\n",
        "print(\"Veces que aparece 2:\", numeros.count(2))\n",
        "print(\"Índice de primer 3:\", numeros.index(3))"
      ]
    },
    {
      "cell_type": "markdown",
      "metadata": {},
      "source": [
        "### 3. Diccionarios (`dict`) – **Pares clave-valor**"
      ]
    },
    {
      "cell_type": "code",
      "execution_count": null,
      "metadata": {},
      "outputs": [],
      "source": [
        "estudiante = {\n",
        "    \"nombre\": \"Lucía\",\n",
        "    \"edad\": 22,\n",
        "    \"cursos\": [\"Matemáticas\", \"Física\"],\n",
        "    \"activo\": True\n",
        "}\n",
        "\n",
        "print(\"Estudiante:\", estudiante)\n",
        "print(\"Nombre:\", estudiante[\"nombre\"])\n",
        "\n",
        "# Modificar y añadir\n",
        "estudiante[\"edad\"] = 23\n",
        "estudiante[\"promedio\"] = 4.5\n",
        "\n",
        "# Métodos útiles\n",
        "print(\"Claves:\", list(estudiante.keys()))\n",
        "print(\"Valores:\", list(estudiante.values()))\n",
        "print(\"Pares:\", list(estudiante.items()))\n",
        "\n",
        "# Verificación segura\n",
        "if \"telefono\" in estudiante:\n",
        "    print(estudiante[\"telefono\"])\n",
        "else:\n",
        "    print(\"Teléfono no disponible\")"
      ]
    },
    {
      "cell_type": "markdown",
      "metadata": {},
      "source": [
        "### 4. Conjuntos (`set`) – **Elementos únicos y desordenados**"
      ]
    },
    {
      "cell_type": "code",
      "execution_count": null,
      "metadata": {},
      "outputs": [],
      "source": [
        "a = {1, 2, 3, 4}\n",
        "b = {3, 4, 5, 6}\n",
        "\n",
        "print(\"Conjunto A:\", a)\n",
        "print(\"Conjunto B:\", b)\n",
        "print(\"Unión (A ∪ B):\", a | b)\n",
        "print(\"Intersección (A ∩ B):\", a & b)\n",
        "print(\"Diferencia (A - B):\", a - b)\n",
        "print(\"Diferencia simétrica:\", a ^ b)\n",
        "\n",
        "# Crear desde lista (elimina duplicados)\n",
        "lista_con_duplicados = [1, 2, 2, 3, 3, 3]\n",
        "conjunto_limpio = set(lista_con_duplicados)\n",
        "print(\"Sin duplicados:\", conjunto_limpio)"
      ]
    },
    {
      "cell_type": "markdown",
      "metadata": {},
      "source": [
        "## 🔄 Conversión de Tipos"
      ]
    },
    {
      "cell_type": "code",
      "execution_count": null,
      "metadata": {},
      "outputs": [],
      "source": [
        "# str → int / float\n",
        "edad_str = \"25\"\n",
        "edad_int = int(edad_str)\n",
        "print(f\"{edad_str} (str) → {edad_int} (int)\")\n",
        "\n",
        "# int → str\n",
        "anio = 2025\n",
        "anio_str = str(anio)\n",
        "print(f\"{anio} (int) → '{anio_str}' (str)\")\n",
        "\n",
        "# float → int (trunca, no redondea)\n",
        "pi = 3.1416\n",
        "pi_entero = int(pi)\n",
        "print(f\"{pi} → {pi_entero}\")\n",
        "\n",
        "# Cuidado: esto da error → int(\"3.14\")\n",
        "# Primero convierte a float: int(float(\"3.14\"))"
      ]
    },
    {
      "cell_type": "markdown",
      "metadata": {},
      "source": [
        "## 🧵 F-Strings: Formato Moderno de Cadenas"
      ]
    },
    {
      "cell_type": "code",
      "execution_count": null,
      "metadata": {},
      "outputs": [],
      "source": [
        "producto = \"Laptop\"\n",
        "precio = 1299.99\n",
        "impuestos = 0.19\n",
        "\n",
        "total = precio * (1 + impuestos)\n",
        "\n",
        "mensaje = f\"El {producto} cuesta ${precio:.2f} más impuestos. Total: ${total:.2f}\"\n",
        "print(mensaje)\n",
        "\n",
        "# Incluso expresiones\n",
        "print(f\"Dentro de 5 años tendrás {25 + 5} años.\")"
      ]
    },
    {
      "cell_type": "markdown",
      "metadata": {},
      "source": [
        "## 💡 Ejercicios Prácticos Integrados"
      ]
    },
    {
      "cell_type": "code",
      "execution_count": null,
      "metadata": {},
      "outputs": [],
      "source": [
        "# Ejercicio 1: Calcular promedio de notas\n",
        "notas = [4.5, 3.8, 4.2, 5.0, 3.9]\n",
        "promedio = sum(notas) / len(notas)\n",
        "print(f\"Promedio: {promedio:.2f}\")\n",
        "print(f\"¿Aprobado? {'Sí' if promedio >= 3.5 else 'No'}\")"
      ]
    },
    {
      "cell_type": "code",
      "execution_count": null,
      "metadata": {},
      "outputs": [],
      "source": [
        "# Ejercicio 2: Filtrar números pares e impares\n",
        "numeros = list(range(1, 21))  # [1, 2, ..., 20]\n",
        "pares = [n for n in numeros if n % 2 == 0]\n",
        "impares = [n for n in numeros if n % 2 != 0]\n",
        "\n",
        "print(\"Pares:\", pares)\n",
        "print(\"Impares:\", impares)"
      ]
    },
    {
      "cell_type": "code",
      "execution_count": null,
      "metadata": {},
      "outputs": [],
      "source": [
        "# Ejercicio 3: Diccionario de inventario\n",
        "inventario = {\n",
        "    \"manzanas\": 50,\n",
        "    \"plátanos\": 30,\n",
        "    \"naranjas\": 40\n",
        "}\n",
        "\n",
        "def vender(fruta, cantidad):\n",
        "    if fruta in inventario and inventario[fruta] >= cantidad:\n",
        "        inventario[fruta] -= cantidad\n",
        "        print(f\"Se vendieron {cantidad} {fruta}(s). Quedan: {inventario[fruta]}\")\n",
        "    else:\n",
        "        print(f\"No hay suficientes {fruta}(s) en inventario.\")\n",
        "\n",
        "vender(\"manzanas\", 10)\n",
        "vender(\"plátanos\", 35)"
      ]
    },

  "metadata": {
    "kernelspec": {
      "display_name": "Python 3",
      "language": "python",
      "name": "python3"
    },
    "language_info": {
      "name": "python",
      "version": "3.13.1",
      "mimetype": "text/x-python",
      "codemirror_mode": {
        "name": "ipython",
        "version": 3
      },
      "pygments_lexer": "ipython3",
      "nbconvert_exporter": "python",
      "file_extension": ".py"
    }
  },
  "nbformat": 4,
  "nbformat_minor": 5
}

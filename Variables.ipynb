{
 "cells": [
  {
   "cell_type": "markdown",
   "metadata": {},
   "source": [
    "# **Tutorial Básico de Python: De Cero a Primeros Pasos**"
   ]
  },
  {
   "cell_type": "markdown",
   "metadata": {},
   "source": [
    "## 1. ¿Qué es Python y Por Qué Usarlo?\n",
    "\n",
    "Python es un **lenguaje de programación de alto nivel** que es *interpretado* y de *propósito general*.\n",
    "\n",
    "Su característica más importante es su **simplicidad y legibilidad**, ya que su sintaxis se asemeja mucho al idioma inglés. Esto lo hace ideal para:\n",
    "\n",
    "-   **Principiantes:** El proceso de aprendizaje es rápido y amigable.\n",
    "-   **Desarrolladores Experimentados:** Aumenta la productividad para proyectos complejos.\n",
    "\n",
    "Se usa ampliamente en campos como la Ciencia de Datos, el Desarrollo Web (Django, Flask), la Inteligencia Artificial (IA) y la automatización de tareas."
   ]
  },
  {
   "cell_type": "markdown",
   "metadata": {},
   "source": [
    "## 2. Sintaxis, Comentarios y Salida por Pantalla\n",
    "\n",
    "### Comentarios (`#`)\n",
    "\n",
    "Los comentarios son líneas de texto que el intérprete de Python ignora. Se usan para explicar el código y hacer anotaciones. Siempre inician con el signo de numeral (`#`).\n",
    "\n",
    "### Salida de Datos (`print()`)\n",
    "\n",
    "La función `print()` es fundamental para mostrar cualquier resultado, texto o el valor de una variable en la consola o pantalla."
   ]
  },
  {
   "cell_type": "code",
   "execution_count": null,
   "metadata": {},
   "outputs": [],
   "source": [
    "# Este es un comentario: el código no lo ejecuta.\n",
    "# Puedes usarlo para dejar una explicación sobre la línea siguiente.\n",
    "\n",
    "print(\"¡Hola, mundo!\")  # La función print muestra el texto en pantalla\n",
    "print(\"Python es genial.\")"
   ]
  },
  {
   "cell_type": "markdown",
   "metadata": {},
   "source": [
    "## 3. Variables y Tipos de Datos Fundamentales\n",
    "\n",
    "### Variables: Definición\n",
    "\n",
    "Una variable es un nombre simbólico que utilizamos para almacenar un valor en la memoria. A diferencia de otros lenguajes, **no necesitas declarar el tipo de dato**; Python lo infiere automáticamente (tipado dinámico).\n",
    "\n",
    "**Reglas Clave para Nombres de Variables:**\n",
    "\n",
    "1.  Deben ser descriptivos (`edad_usuario`).\n",
    "2.  No pueden tener espacios (usa guion bajo: `edad_usuario`).\n",
    "3.  No pueden comenzar con números o caracteres especiales."
   ]
  },
  {
   "cell_type": "code",
   "execution_count": null,
   "metadata": {},
   "outputs": [],
   "source": [
    "nombre = \"Juan\"\n",
    "edad = 30\n",
    "estatura_m = 1.75\n",
    "es_estudiante = True\n",
    "\n",
    "# Usamos type() para verificar el tipo de dato que Python infirió.\n",
    "print(f\"Variable nombre: {nombre}, Tipo: {type(nombre)}\")\n",
    "print(f\"Variable edad: {edad}, Tipo: {type(edad)}\")\n",
    "print(f\"Variable estatura: {estatura_m}, Tipo: {type(estatura_m)}\")\n",
    "print(f\"Variable es_estudiante: {es_estudiante}, Tipo: {type(es_estudiante)}\")"
   ]
  },
  {
   "cell_type": "markdown",
   "metadata": {},
   "source": [
    "### Tipos de Datos (Resumen)\n",
    "\n",
    "| Tipo | Nombre | Descripción | Ejemplo |\n",
    "| :--- | :--- | :--- | :--- |\n",
    "| `int` | Entero | Números sin decimales (positivos, negativos, cero). | `42` |\n",
    "| `float` | Flotante | Números con parte decimal. | `3.14159` |\n",
    "| `str` | Cadena de Texto | Texto, siempre entre comillas simples (`'`) o dobles (`\"`). | `'Hola'` |\n",
    "| `bool` | Booleano | Valores lógicos: `True` (Verdadero) o `False` (Falso). | `True` |"
   ]
  },
  {
   "cell_type": "markdown",
   "metadata": {},
   "source": [
    "## 4. Operaciones y Expresiones\n",
    "\n",
    "### Operaciones Aritméticas\n",
    "\n",
    "Los operadores básicos para cálculos numéricos."
   ]
  },
  {
   "cell_type": "code",
   "execution_count": null,
   "metadata": {},
   "outputs": [],
   "source": [
    "from math import sqrt\n",
    "\n",
    "num1 = 8\n",
    "num2 = 2\n",
    "\n",
    "print(f\"Suma (8 + 2): {num1 + num2}\")\n",
    "print(f\"Resta (8 - 2): {num1 - num2}\")\n",
    "print(f\"Multiplicación (8 * 2): {num1 * num2}\")\n",
    "print(f\"División Flotante (8 / 3): {8 / 3}\")\n",
    "print(f\"Potencia (2 ** 6): {num2 ** 6}\")\n",
    "print(f\"Módulo / Residuo (8 % 3): {8 % 3}\")\n",
    "print(f\"Raíz Cuadrada (sqrt(25)): {sqrt(25)}\") # Se necesita importar la función sqrt"
   ]
  },
  {
   "cell_type": "markdown",
   "metadata": {},
   "source": [
    "### Operadores de Comparación y Lógicos\n",
    "\n",
    "Estos operadores evalúan expresiones y devuelven un valor booleano (`True` o `False`).\n",
    "\n",
    "| Tipo | Operador | Significado |\n",
    "| :--- | :--- | :--- |\n",
    "| **Comparación** | `==` | Igual a |\n",
    "| | `!=` | Diferente a |\n",
    "| | `>` / `<` | Mayor que / Menor que |\n",
    "| | `>=` / `<=` | Mayor o igual que / Menor o igual que |\n",
    "| **Lógico** | `and` | Verdadero si *ambas* condiciones son verdaderas |\n",
    "| | `or` | Verdadero si *al menos una* condición es verdadera |\n",
    "| | `not` | Invierte el valor lógico (True se vuelve False) |"
   ]
  },
  {
   "cell_type": "code",
   "execution_count": null,
   "metadata": {},
   "outputs": [],
   "source": [
    "a = 10\n",
    "b = 5\n",
    "\n",
    "# Comparación\n",
    "print(f\"¿A es igual a B? (10 == 5): {a == b}\") # False\n",
    "print(f\"¿A es mayor que B? (10 > 5): {a > b}\") # True\n",
    "\n",
    "# Lógico (and / or)\n",
    "condicion_1 = (a > 8)\n",
    "condicion_2 = (b < 3)\n",
    "\n",
    "print(f\"Resultado AND (True and False): {condicion_1 and condicion_2}\") # False\n",
    "print(f\"Resultado OR (True or False): {condicion_1 or condicion_2}\")   # True\n",
    "\n",
    "# Lógico (not)\n",
    "print(f\"Resultado NOT (not True): {not condicion_1}\") # False"
   ]
  },
  {
   "cell_type": "markdown",
   "metadata": {},
   "source": [
    "## 5. Estructuras de Datos Colecciones\n",
    "\n",
    "Python incluye estructuras potentes para manejar grupos de datos, incluso de diferentes tipos."
   ]
  },
  {
   "cell_type": "markdown",
   "metadata": {},
   "source": [
    "### 5.1 Listas (`list`)\n",
    "\n",
    "Las listas son colecciones **ordenadas, indexadas** y **mutables** (puedes cambiarlas después de crearlas). Se definen con corchetes `[]`."
   ]
  },
  {
   "cell_type": "code",
   "execution_count": null,
   "metadata": {},
   "outputs": [],
   "source": [
    "articulos = [\"nevera\", \"lavadora\", \"microondas\"]\n",
    "numeros = [8.9, 3.7, -4.7]\n",
    "\n",
    "print(f\"Lista original: {articulos}\")\n",
    "\n",
    "# Mutabilidad: Añadir un elemento al final\n",
    "articulos.append(\"televisor\")\n",
    "print(f\"Lista después de append: {articulos}\")\n",
    "\n",
    "# Mutabilidad: Insertar en una posición específica (índice 0)\n",
    "articulos.insert(0, \"mesa\")\n",
    "print(f\"Lista después de insert: {articulos}\")\n",
    "\n",
    "# Indexación: Acceder al primer elemento (índice 0)\n",
    "print(f\"Primer elemento: {articulos[0]}\")\n",
    "\n",
    "# Operación: Ordenar la lista (modifica la lista original)\n",
    "numeros.sort()\n",
    "print(f\"Lista de números ordenada: {numeros}\")"
   ]
  },
  {
   "cell_type": "markdown",
   "metadata": {},
   "source": [
    "### 5.2 Tuplas (`tuple`)\n",
    "\n",
    "Las tuplas son colecciones **ordenadas, indexadas** e **inmutables** (no se pueden cambiar después de crearlas). Se definen con paréntesis `()` o simplemente separando elementos por comas."
   ]
  },
  {
   "cell_type": "code",
   "execution_count": null,
   "metadata": {},
   "outputs": [],
   "source": [
    "informacion_persona = (\"Sara\", 21, \"Caldas, Ant\")\n",
    "otros_datos = (978, \"Mujer\", True)\n",
    "\n",
    "# Indexación: Acceder a un elemento\n",
    "print(f\"El nombre es: {informacion_persona[0]}\")\n",
    "\n",
    "# Concatenación (Crea una nueva tupla, no modifica las originales)\n",
    "tupla_unida = informacion_persona + otros_datos\n",
    "print(f\"Tupla unida: {tupla_unida}\")\n",
    "\n",
    "# Contar ocurrencias\n",
    "tupla_con_rep = (1, 8, 9, 3, 4, 2, 8)\n",
    "print(f\"Número de veces que aparece '8': {tupla_con_rep.count(8)}\")"
   ]
  },
  {
   "cell_type": "markdown",
   "metadata": {},
   "source": [
    "### 5.3 Diccionarios (`dict`)\n",
    "\n",
    "Los diccionarios son colecciones **desordenadas** que almacenan datos en formato de **pares clave-valor**. Se definen con llaves `{}`. Se accede a los valores mediante su clave única (ej. `'nombre'`), no por índice numérico."
   ]
  },
  {
   "cell_type": "code",
   "execution_count": null,
   "metadata": {},
   "outputs": [],
   "source": [
    "cliente = {\n",
    "    \"nombre\": \"Santiago\", \n",
    "    \"apellido\": \"Suarez\", \n",
    "    \"edad\": 23,\n",
    "    \"sexo\": \"M\"\n",
    "}\n",
    "\n",
    "print(f\"Diccionario del cliente: {cliente}\")\n",
    "\n",
    "# Acceder a un valor por su clave\n",
    "print(f\"La edad de {cliente['nombre']} es {cliente['edad']} años.\")\n",
    "\n",
    "# Modificar un valor\n",
    "cliente['edad'] = 24\n",
    "print(f\"Nueva edad: {cliente['edad']}\")"
   ]
  },
  {
   "cell_type": "markdown",
   "metadata": {},
   "source": [
    "### 5.4 Conjuntos (`set`)\n",
    "\n",
    "Los conjuntos son colecciones **desordenadas** que no permiten **elementos duplicados**. Se definen con llaves `{}` o usando la función `set()`."
   ]
  },
  {
   "cell_type": "code",
   "execution_count": null,
   "metadata": {},
   "outputs": [],
   "source": [
    "# Al crear un conjunto desde una lista con duplicados, se eliminan automáticamente:\n",
    "nros_duplicados = [1, 0, -3, 0, 2, 1]\n",
    "conjunto_unico = set(nros_duplicados)\n",
    "print(f\"Lista original: {nros_duplicados}\")\n",
    "print(f\"Conjunto sin duplicados: {conjunto_unico}\")\n",
    "\n",
    "# Operaciones de conjuntos\n",
    "set_A = {1, 2, 4, 7}\n",
    "set_B = {2, 5, 7, 10}\n",
    "\n",
    "print(f\"Intersección (elementos comunes): {set_A.intersection(set_B)}\")\n",
    "print(f\"Unión (todos los elementos únicos): {set_A.union(set_B)}\")\n",
    "print(f\"Diferencia (elementos en A que no están en B): {set_A.difference(set_B)}\")"
   ]
  },
  {
   "cell_type": "markdown",
   "metadata": {},
   "source": [
    "## 6. Utilidades: F-Strings y Conversión de Tipos\n",
    "\n",
    "### Conversión de Tipos (Casting)\n",
    "\n",
    "Puedes cambiar el tipo de una variable usando las funciones integradas de Python: `int()`, `float()`, `str()`, `list()`, `tuple()`, etc."
   ]
  },
  {
   "cell_type": "code",
   "execution_count": null,
   "metadata": {},
   "outputs": [],
   "source": [
    "str_num = \"36\"          # Cadena de texto\n",
    "num_int = int(str_num)  # Convertido a Entero\n",
    "num_float = float(str_num) # Convertido a Flotante\n",
    "\n",
    "print(f\"'{str_num}' (str) -> {num_int} (int) | Tipo: {type(num_int)}\")\n",
    "print(f\"'{str_num}' (str) -> {num_float} (float) | Tipo: {type(num_float)}\")\n",
    "\n",
    "# Convertir número decimal a cadena\n",
    "valor_decimal = 17.547\n",
    "str_decimal = str(valor_decimal)\n",
    "print(f\"{valor_decimal} (float) -> '{str_decimal}' (str) | Tipo: {type(str_decimal)}\")"
   ]
  },
  {
   "cell_type": "markdown",
   "metadata": {},
   "source": [
    "### F-Strings (Cadenas Formateadas)\n",
    "\n",
    "Son la forma más moderna y legible de incluir el valor de variables dentro de una cadena de texto. Simplemente antepone una `f` a la cadena y encierra las variables entre llaves `{}`."
   ]
  },
  {
   "cell_type": "code",
   "execution_count": null,
   "metadata": {},
   "outputs": [],
   "source": [
    "nombre = \"Sara\"\n",
    "edad = 21\n",
    "ciudad = \"Caldas, Ant\"\n",
    "\n",
    "# Usamos f-strings para insertar variables directamente en el mensaje:\n",
    "mensaje = f\"Hola, me llamo {nombre}, tengo {edad} años y vivo en {ciudad}.\"\n",
    "\n",
    "print(mensaje)"
   ]
  }
 ],
 "metadata": {
  "kernelspec": {
   "display_name": "Python 3",
   "language": "python",
   "name": "python3"
  },
  "language_info": {
   "codemirror_mode": {
    "name": "ipython",
    "version": 3
   },
   "file_extension": ".py",
   "mimetype": "text/x-python",
   "name": "python",
   "nbconvert_exporter": "python",
   "pygments_lexer": "ipython3",
   "version": "3.13.1"
  }
 },
 "nbformat": 4,
 "nbformat_minor": 2
}
